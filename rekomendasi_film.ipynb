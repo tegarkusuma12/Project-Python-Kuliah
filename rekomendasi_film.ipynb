{
 "cells": [
  {
   "cell_type": "markdown",
   "metadata": {},
   "source": [
    "# Sistem Rekomendasi Film"
   ]
  },
  {
   "cell_type": "markdown",
   "metadata": {},
   "source": [
    "- Pastikan kamu sudah install library pandas dan scikit-learn\n",
    "- Jangan lupa, read_csv berdasarkan path file"
   ]
  },
  {
   "cell_type": "code",
   "execution_count": 10,
   "metadata": {},
   "outputs": [],
   "source": [
    "# import library\n",
    "import pandas as pd \n",
    "from sklearn.feature_extraction.text import TfidfVectorizer \n",
    "from sklearn.metrics.pairwise import cosine_similarity "
   ]
  },
  {
   "cell_type": "markdown",
   "metadata": {},
   "source": [
    "- Library pandas digunakan untuk bekerja dengan DataFrame, yaitu struktur data seperti tabel yang sering digunakan dalam pengolahan data.\n",
    "- TfidfVectorizer dari library sklearn adalah fitur sckit-learn untuk mengubah teks menjadi numerik TF-IDF (Term Frequency-Inverse Document Frequency).\n",
    "- cosine_similarity dari library sklearn adalah fitur untuk menghitung kemiripan kosinus antara dua vektor."
   ]
  },
  {
   "cell_type": "code",
   "execution_count": 11,
   "metadata": {},
   "outputs": [],
   "source": [
    "# Load csv\n",
    "movie_df = pd.read_csv(\"D:\\\\Data sets\\\\tmdb_5000_movies.csv\", encoding='utf-8')"
   ]
  },
  {
   "cell_type": "markdown",
   "metadata": {},
   "source": [
    "Kode untuk membaca csv dari data sets yang sudah di download dari kaggle lalu masukkan ke variable movie_df"
   ]
  },
  {
   "cell_type": "code",
   "execution_count": 12,
   "metadata": {},
   "outputs": [],
   "source": [
    "# Gabungkan judul dan genre\n",
    "movie_df['combined'] = movie_df['title'] + ' ' + movie_df['genres']"
   ]
  },
  {
   "cell_type": "markdown",
   "metadata": {},
   "source": [
    "Kode ini membuat kolom baru di DataFrame yang menggabungkan judul film dengan genre dalam satu string. Dilakukan agar algoritma bisa melakukan perhitungan menggunakan kedua informasi tersebut secara bersamaan."
   ]
  },
  {
   "cell_type": "code",
   "execution_count": 13,
   "metadata": {},
   "outputs": [],
   "source": [
    "# Membuat matriks TF-IDF\n",
    "tfidf_vectorizer = TfidfVectorizer()\n",
    "tfidf_matrix = tfidf_vectorizer.fit_transform(movie_df['combined'])"
   ]
  },
  {
   "cell_type": "markdown",
   "metadata": {},
   "source": [
    "Kolom yang sudah digabungkan diubah menjadi matriks TF-IDF. Sekarang isi kolom berisi vektor angka. Setiap angka merepresentasikan bobot dari sebuah kata(Kata yang lebih unik/lebih sedikit memiliki bobot lebih tinggi)."
   ]
  },
  {
   "cell_type": "code",
   "execution_count": 14,
   "metadata": {},
   "outputs": [],
   "source": [
    "# Hitung kemiripan kosinus\n",
    "cosine_sim = cosine_similarity(tfidf_matrix)"
   ]
  },
  {
   "cell_type": "markdown",
   "metadata": {},
   "source": [
    "Setelah semua kata suah dibuat TF-IDF, hitung kemiripan kosinus sudut antara dua vektor. Nilai kemiripan berkisar dari -1 hingga 1, di mana nilai 1 berarti sangat mirip dan 0 berarti tidak mirip sama sekali."
   ]
  },
  {
   "cell_type": "code",
   "execution_count": 15,
   "metadata": {},
   "outputs": [],
   "source": [
    "def get_recommendations_by_keyword(keyword):\n",
    "    # Vectorisasi kata kunci\n",
    "    keyword_vector = tfidf_vectorizer.transform([keyword])\n",
    "\n",
    "    # Hitung kemiripan antara kata kunci dengan semua film\n",
    "    cosine_sim = cosine_similarity(keyword_vector, tfidf_matrix).flatten()\n",
    "\n",
    "    # Urutkan indeks film berdasarkan skor kemiripan\n",
    "    sim_scores = cosine_sim.argsort()[::-1]\n",
    "\n",
    "    # Ambil indeks 10 film dengan skor tertinggi\n",
    "    movie_indices = sim_scores[:10]\n",
    "\n",
    "    # Ambil judul dan genre film\n",
    "    movie_recommendations = movie_df[['title', 'genres']].iloc[movie_indices]\n",
    "\n",
    "    return movie_recommendations"
   ]
  },
  {
   "cell_type": "markdown",
   "metadata": {},
   "source": [
    "Fungsi menerima input berupa kata kunci\n",
    "\n",
    "- Kata kunci pengguna diubah menjadi vektor menggunakan tfidf_vectorizer.\n",
    "- Kemudian, kemiripan kosinus antara kata kunci tersebut dan setiap film dihitung.\n",
    "- Film diurutkan berdasarkan skor kemiripannya.\n",
    "- 10 film teratas dengan skor tertinggi dipilih.\n",
    "- Akhirnya, judul dan genre dari film-film tersebut dikembalikan sebagai rekomendasi."
   ]
  },
  {
   "cell_type": "code",
   "execution_count": 16,
   "metadata": {},
   "outputs": [],
   "source": [
    "# Minta input dari pengguna\n",
    "keyword = str(input(\"Cari film apa? : \"))"
   ]
  },
  {
   "cell_type": "markdown",
   "metadata": {},
   "source": [
    "Ini inputnya bertipe data string."
   ]
  },
  {
   "cell_type": "code",
   "execution_count": 17,
   "metadata": {},
   "outputs": [],
   "source": [
    "# Panggil fungsi rekomendasi\n",
    "recommended_movies = get_recommendations_by_keyword(keyword)"
   ]
  },
  {
   "cell_type": "markdown",
   "metadata": {},
   "source": [
    "Memanggil fungsi untuk mencari tahu rekomendasi."
   ]
  },
  {
   "cell_type": "code",
   "execution_count": 18,
   "metadata": {},
   "outputs": [
    {
     "name": "stdout",
     "output_type": "stream",
     "text": [
      "Rekomendasi film berdasarkan kata kunci 'action':\n"
     ]
    },
    {
     "data": {
      "text/html": [
       "<div>\n",
       "<style scoped>\n",
       "    .dataframe tbody tr th:only-of-type {\n",
       "        vertical-align: middle;\n",
       "    }\n",
       "\n",
       "    .dataframe tbody tr th {\n",
       "        vertical-align: top;\n",
       "    }\n",
       "\n",
       "    .dataframe thead th {\n",
       "        text-align: right;\n",
       "    }\n",
       "</style>\n",
       "<table border=\"1\" class=\"dataframe\">\n",
       "  <thead>\n",
       "    <tr style=\"text-align: right;\">\n",
       "      <th></th>\n",
       "      <th>title</th>\n",
       "      <th>genres</th>\n",
       "    </tr>\n",
       "  </thead>\n",
       "  <tbody>\n",
       "    <tr>\n",
       "      <th>3848</th>\n",
       "      <td>D.E.B.S.</td>\n",
       "      <td>[{\"id\": 28, \"name\": \"Action\"}]</td>\n",
       "    </tr>\n",
       "    <tr>\n",
       "      <th>2933</th>\n",
       "      <td>F.I.S.T.</td>\n",
       "      <td>[{\"id\": 18, \"name\": \"Drama\"}, {\"id\": 28, \"name...</td>\n",
       "    </tr>\n",
       "    <tr>\n",
       "      <th>3352</th>\n",
       "      <td>Action Jackson</td>\n",
       "      <td>[{\"id\": 28, \"name\": \"Action\"}, {\"id\": 12, \"nam...</td>\n",
       "    </tr>\n",
       "    <tr>\n",
       "      <th>574</th>\n",
       "      <td>S.W.A.T.</td>\n",
       "      <td>[{\"id\": 28, \"name\": \"Action\"}, {\"id\": 53, \"nam...</td>\n",
       "    </tr>\n",
       "    <tr>\n",
       "      <th>403</th>\n",
       "      <td>Last Action Hero</td>\n",
       "      <td>[{\"id\": 12, \"name\": \"Adventure\"}, {\"id\": 14, \"...</td>\n",
       "    </tr>\n",
       "    <tr>\n",
       "      <th>44</th>\n",
       "      <td>Furious 7</td>\n",
       "      <td>[{\"id\": 28, \"name\": \"Action\"}]</td>\n",
       "    </tr>\n",
       "    <tr>\n",
       "      <th>4042</th>\n",
       "      <td>U.F.O.</td>\n",
       "      <td>[{\"id\": 28, \"name\": \"Action\"}, {\"id\": 12, \"nam...</td>\n",
       "    </tr>\n",
       "    <tr>\n",
       "      <th>1894</th>\n",
       "      <td>War</td>\n",
       "      <td>[{\"id\": 28, \"name\": \"Action\"}, {\"id\": 53, \"nam...</td>\n",
       "    </tr>\n",
       "    <tr>\n",
       "      <th>729</th>\n",
       "      <td>A Civil Action</td>\n",
       "      <td>[{\"id\": 18, \"name\": \"Drama\"}]</td>\n",
       "    </tr>\n",
       "    <tr>\n",
       "      <th>1920</th>\n",
       "      <td>Warrior</td>\n",
       "      <td>[{\"id\": 28, \"name\": \"Action\"}, {\"id\": 18, \"nam...</td>\n",
       "    </tr>\n",
       "  </tbody>\n",
       "</table>\n",
       "</div>"
      ],
      "text/plain": [
       "                 title                                             genres\n",
       "3848          D.E.B.S.                     [{\"id\": 28, \"name\": \"Action\"}]\n",
       "2933          F.I.S.T.  [{\"id\": 18, \"name\": \"Drama\"}, {\"id\": 28, \"name...\n",
       "3352    Action Jackson  [{\"id\": 28, \"name\": \"Action\"}, {\"id\": 12, \"nam...\n",
       "574           S.W.A.T.  [{\"id\": 28, \"name\": \"Action\"}, {\"id\": 53, \"nam...\n",
       "403   Last Action Hero  [{\"id\": 12, \"name\": \"Adventure\"}, {\"id\": 14, \"...\n",
       "44           Furious 7                     [{\"id\": 28, \"name\": \"Action\"}]\n",
       "4042            U.F.O.  [{\"id\": 28, \"name\": \"Action\"}, {\"id\": 12, \"nam...\n",
       "1894               War  [{\"id\": 28, \"name\": \"Action\"}, {\"id\": 53, \"nam...\n",
       "729     A Civil Action                      [{\"id\": 18, \"name\": \"Drama\"}]\n",
       "1920           Warrior  [{\"id\": 28, \"name\": \"Action\"}, {\"id\": 18, \"nam..."
      ]
     },
     "execution_count": 18,
     "metadata": {},
     "output_type": "execute_result"
    }
   ],
   "source": [
    "# Tampilkan rekomendasi\n",
    "print(\"Rekomendasi film berdasarkan kata kunci '{}':\".format(keyword))\n",
    "recommended_movies"
   ]
  }
 ],
 "metadata": {
  "kernelspec": {
   "display_name": ".venv",
   "language": "python",
   "name": "python3"
  },
  "language_info": {
   "codemirror_mode": {
    "name": "ipython",
    "version": 3
   },
   "file_extension": ".py",
   "mimetype": "text/x-python",
   "name": "python",
   "nbconvert_exporter": "python",
   "pygments_lexer": "ipython3",
   "version": "3.12.5"
  }
 },
 "nbformat": 4,
 "nbformat_minor": 2
}
