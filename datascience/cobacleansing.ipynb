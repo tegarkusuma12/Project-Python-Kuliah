{
 "cells": [
  {
   "cell_type": "markdown",
   "metadata": {},
   "source": [
    "# Belajar Cleansing Data"
   ]
  },
  {
   "cell_type": "code",
   "execution_count": 1,
   "metadata": {},
   "outputs": [],
   "source": [
    "import pandas as pd"
   ]
  },
  {
   "cell_type": "code",
   "execution_count": 2,
   "metadata": {},
   "outputs": [],
   "source": [
    "data = pd.read_csv(\"D:/Data sets/penduduk_telepon_seluler_pedesaan.csv\", encoding='utf-8')"
   ]
  },
  {
   "cell_type": "code",
   "execution_count": 3,
   "metadata": {},
   "outputs": [
    {
     "data": {
      "text/html": [
       "<div>\n",
       "<style scoped>\n",
       "    .dataframe tbody tr th:only-of-type {\n",
       "        vertical-align: middle;\n",
       "    }\n",
       "\n",
       "    .dataframe tbody tr th {\n",
       "        vertical-align: top;\n",
       "    }\n",
       "\n",
       "    .dataframe thead th {\n",
       "        text-align: right;\n",
       "    }\n",
       "</style>\n",
       "<table border=\"1\" class=\"dataframe\">\n",
       "  <thead>\n",
       "    <tr style=\"text-align: right;\">\n",
       "      <th></th>\n",
       "      <th>nama_series</th>\n",
       "      <th>kode_wilayah</th>\n",
       "      <th>wilayah</th>\n",
       "      <th>tahun</th>\n",
       "      <th>nilai</th>\n",
       "      <th>target</th>\n",
       "    </tr>\n",
       "  </thead>\n",
       "  <tbody>\n",
       "    <tr>\n",
       "      <th>0</th>\n",
       "      <td>Proporsi Penduduk yang Memiliki Telepon Selule...</td>\n",
       "      <td>1</td>\n",
       "      <td>Indonesia</td>\n",
       "      <td>2001</td>\n",
       "      <td>NaN</td>\n",
       "      <td>100.0</td>\n",
       "    </tr>\n",
       "    <tr>\n",
       "      <th>1</th>\n",
       "      <td>Proporsi Penduduk yang Memiliki Telepon Selule...</td>\n",
       "      <td>1</td>\n",
       "      <td>Indonesia</td>\n",
       "      <td>2002</td>\n",
       "      <td>NaN</td>\n",
       "      <td>100.0</td>\n",
       "    </tr>\n",
       "    <tr>\n",
       "      <th>2</th>\n",
       "      <td>Proporsi Penduduk yang Memiliki Telepon Selule...</td>\n",
       "      <td>1</td>\n",
       "      <td>Indonesia</td>\n",
       "      <td>2003</td>\n",
       "      <td>NaN</td>\n",
       "      <td>100.0</td>\n",
       "    </tr>\n",
       "    <tr>\n",
       "      <th>3</th>\n",
       "      <td>Proporsi Penduduk yang Memiliki Telepon Selule...</td>\n",
       "      <td>1</td>\n",
       "      <td>Indonesia</td>\n",
       "      <td>2004</td>\n",
       "      <td>NaN</td>\n",
       "      <td>100.0</td>\n",
       "    </tr>\n",
       "    <tr>\n",
       "      <th>4</th>\n",
       "      <td>Proporsi Penduduk yang Memiliki Telepon Selule...</td>\n",
       "      <td>1</td>\n",
       "      <td>Indonesia</td>\n",
       "      <td>2005</td>\n",
       "      <td>8.19</td>\n",
       "      <td>100.0</td>\n",
       "    </tr>\n",
       "  </tbody>\n",
       "</table>\n",
       "</div>"
      ],
      "text/plain": [
       "                                         nama_series  kode_wilayah    wilayah  \\\n",
       "0  Proporsi Penduduk yang Memiliki Telepon Selule...             1  Indonesia   \n",
       "1  Proporsi Penduduk yang Memiliki Telepon Selule...             1  Indonesia   \n",
       "2  Proporsi Penduduk yang Memiliki Telepon Selule...             1  Indonesia   \n",
       "3  Proporsi Penduduk yang Memiliki Telepon Selule...             1  Indonesia   \n",
       "4  Proporsi Penduduk yang Memiliki Telepon Selule...             1  Indonesia   \n",
       "\n",
       "   tahun  nilai  target  \n",
       "0   2001    NaN   100.0  \n",
       "1   2002    NaN   100.0  \n",
       "2   2003    NaN   100.0  \n",
       "3   2004    NaN   100.0  \n",
       "4   2005   8.19   100.0  "
      ]
     },
     "execution_count": 3,
     "metadata": {},
     "output_type": "execute_result"
    }
   ],
   "source": [
    "data.head()"
   ]
  }
 ],
 "metadata": {
  "kernelspec": {
   "display_name": ".venv",
   "language": "python",
   "name": "python3"
  },
  "language_info": {
   "codemirror_mode": {
    "name": "ipython",
    "version": 3
   },
   "file_extension": ".py",
   "mimetype": "text/x-python",
   "name": "python",
   "nbconvert_exporter": "python",
   "pygments_lexer": "ipython3",
   "version": "3.12.5"
  }
 },
 "nbformat": 4,
 "nbformat_minor": 2
}
