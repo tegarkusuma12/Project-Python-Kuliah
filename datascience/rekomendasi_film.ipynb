{
 "cells": [
  {
   "cell_type": "markdown",
   "metadata": {},
   "source": [
    "# Sistem Rekomendasi Film"
   ]
  },
  {
   "cell_type": "markdown",
   "metadata": {},
   "source": [
    "- Pastikan kamu sudah install library pandas dan scikit-learn\n",
    "- Jangan lupa, read_csv berdasarkan path file"
   ]
  },
  {
   "cell_type": "code",
   "execution_count": 10,
   "metadata": {},
   "outputs": [],
   "source": [
    "# import library\n",
    "import pandas as pd \n",
    "from sklearn.feature_extraction.text import TfidfVectorizer \n",
    "from sklearn.metrics.pairwise import cosine_similarity "
   ]
  },
  {
   "cell_type": "markdown",
   "metadata": {},
   "source": [
    "- Library pandas digunakan untuk bekerja dengan DataFrame, yaitu struktur data seperti tabel yang sering digunakan dalam pengolahan data.\n",
    "- TfidfVectorizer dari library sklearn adalah fitur sckit-learn untuk mengubah teks menjadi numerik TF-IDF (Term Frequency-Inverse Document Frequency).\n",
    "- cosine_similarity dari library sklearn adalah fitur untuk menghitung kemiripan kosinus antara dua vektor."
   ]
  },
  {
   "cell_type": "code",
   "execution_count": 11,
   "metadata": {},
   "outputs": [],
   "source": [
    "# Load csv\n",
    "movie_df = pd.read_csv(\"D:\\\\Data sets\\\\tmdb_5000_movies.csv\", encoding='utf-8')"
   ]
  },
  {
   "cell_type": "markdown",
   "metadata": {},
   "source": [
    "Kode untuk membaca csv dari data sets yang sudah di download dari kaggle lalu masukkan ke variable movie_df"
   ]
  },
  {
   "cell_type": "code",
   "execution_count": 12,
   "metadata": {},
   "outputs": [],
   "source": [
    "# Gabungkan judul dan genre\n",
    "movie_df['combined'] = movie_df['title'] + ' ' + movie_df['genres']"
   ]
  },
  {
   "cell_type": "markdown",
   "metadata": {},
   "source": [
    "Kode ini membuat kolom baru di DataFrame yang menggabungkan judul film dengan genre dalam satu string. Dilakukan agar algoritma bisa melakukan perhitungan menggunakan kedua informasi tersebut secara bersamaan."
   ]
  },
  {
   "cell_type": "code",
   "execution_count": 13,
   "metadata": {},
   "outputs": [],
   "source": [
    "# Membuat matriks TF-IDF\n",
    "tfidf_vectorizer = TfidfVectorizer()\n",
    "tfidf_matrix = tfidf_vectorizer.fit_transform(movie_df['combined'])"
   ]
  },
  {
   "cell_type": "markdown",
   "metadata": {},
   "source": [
    "Kolom yang sudah digabungkan kita hitung kosa kata dan frekuensi katanya, kemudian diubah menjadi matriks TF-IDF.Sekarang isi kolom berisi vektor angka. Setiap angka merepresentasikan bobot dari sebuah kata(Kata yang lebih unik/lebih sedikit memiliki bobot lebih tinggi)."
   ]
  },
  {
   "cell_type": "code",
   "execution_count": 14,
   "metadata": {},
   "outputs": [],
   "source": [
    "# Hitung kemiripan kosinus\n",
    "cosine_sim = cosine_similarity(tfidf_matrix)"
   ]
  },
  {
   "cell_type": "markdown",
   "metadata": {},
   "source": [
    "Setelah semua kata suah dibuat TF-IDF, hitung kemiripan kosinus sudut antara dua vektor. Nilai kemiripan berkisar dari -1 hingga 1, di mana nilai -1 berlawanan, 0 tidak mirip sama sekali, dan1 berarti sangat mirip."
   ]
  },
  {
   "cell_type": "code",
   "execution_count": 15,
   "metadata": {},
   "outputs": [],
   "source": [
    "def get_recommendations_by_keyword(keyword):\n",
    "    # Vectorisasi kata kunci\n",
    "    keyword_vector = tfidf_vectorizer.transform([keyword])\n",
    "\n",
    "    # Hitung kemiripan antara kata kunci dengan semua film\n",
    "    cosine_sim = cosine_similarity(keyword_vector, tfidf_matrix).flatten()\n",
    "\n",
    "    # Urutkan indeks film berdasarkan skor kemiripan\n",
    "    sim_scores = cosine_sim.argsort()[::-1]\n",
    "\n",
    "    # Ambil indeks 10 film dengan skor tertinggi\n",
    "    movie_indices = sim_scores[:10]\n",
    "\n",
    "    # Ambil judul dan genre film\n",
    "    movie_recommendations = movie_df[['title', 'genres']].iloc[movie_indices]\n",
    "\n",
    "    return movie_recommendations"
   ]
  },
  {
   "cell_type": "markdown",
   "metadata": {},
   "source": [
    "Fungsi menerima input berupa kata kunci\n",
    "\n",
    "- Kata kunci pengguna diubah menjadi vektor menggunakan tfidf_vectorizer.\n",
    "- Kemudian, kemiripan kosinus antara kata kunci tersebut dan setiap film dihitung.\n",
    "- Baris matkriks diurutkan indeksnya berdasaarkan nilai elemen tertinggi.\n",
    "- 10 baris film teratas dengan skor tertinggi dipilih.\n",
    "- Akhirnya, judul dan genre dari film-film tersebut dikembalikan sebagai rekomendasi."
   ]
  },
  {
   "cell_type": "code",
   "execution_count": 16,
   "metadata": {},
   "outputs": [],
   "source": [
    "# Minta input dari pengguna\n",
    "keyword = str(input(\"Cari film apa? : \"))"
   ]
  },
  {
   "cell_type": "markdown",
   "metadata": {},
   "source": [
    "Ini inputnya bertipe data string."
   ]
  },
  {
   "cell_type": "code",
   "execution_count": 17,
   "metadata": {},
   "outputs": [],
   "source": [
    "# Panggil fungsi rekomendasi\n",
    "recommended_movies = get_recommendations_by_keyword(keyword)"
   ]
  },
  {
   "cell_type": "markdown",
   "metadata": {},
   "source": [
    "Memanggil fungsi untuk mencari tahu rekomendasi."
   ]
  },
  {
   "cell_type": "code",
   "execution_count": 18,
   "metadata": {},
   "outputs": [
    {
     "name": "stdout",
     "output_type": "stream",
     "text": [
      "Rekomendasi film berdasarkan kata kunci 'Thriller, Horror, Comedy':\n"
     ]
    },
    {
     "data": {
      "text/html": [
       "<div>\n",
       "<style scoped>\n",
       "    .dataframe tbody tr th:only-of-type {\n",
       "        vertical-align: middle;\n",
       "    }\n",
       "\n",
       "    .dataframe tbody tr th {\n",
       "        vertical-align: top;\n",
       "    }\n",
       "\n",
       "    .dataframe thead th {\n",
       "        text-align: right;\n",
       "    }\n",
       "</style>\n",
       "<table border=\"1\" class=\"dataframe\">\n",
       "  <thead>\n",
       "    <tr style=\"text-align: right;\">\n",
       "      <th></th>\n",
       "      <th>title</th>\n",
       "      <th>genres</th>\n",
       "    </tr>\n",
       "  </thead>\n",
       "  <tbody>\n",
       "    <tr>\n",
       "      <th>4257</th>\n",
       "      <td>#Horror</td>\n",
       "      <td>[{\"id\": 18, \"name\": \"Drama\"}, {\"id\": 9648, \"na...</td>\n",
       "    </tr>\n",
       "    <tr>\n",
       "      <th>2306</th>\n",
       "      <td>The Amityville Horror</td>\n",
       "      <td>[{\"id\": 27, \"name\": \"Horror\"}, {\"id\": 53, \"nam...</td>\n",
       "    </tr>\n",
       "    <tr>\n",
       "      <th>3108</th>\n",
       "      <td>Severance</td>\n",
       "      <td>[{\"id\": 27, \"name\": \"Horror\"}, {\"id\": 35, \"nam...</td>\n",
       "    </tr>\n",
       "    <tr>\n",
       "      <th>4249</th>\n",
       "      <td>Housebound</td>\n",
       "      <td>[{\"id\": 27, \"name\": \"Horror\"}, {\"id\": 35, \"nam...</td>\n",
       "    </tr>\n",
       "    <tr>\n",
       "      <th>3840</th>\n",
       "      <td>Train</td>\n",
       "      <td>[{\"id\": 27, \"name\": \"Horror\"}, {\"id\": 53, \"nam...</td>\n",
       "    </tr>\n",
       "    <tr>\n",
       "      <th>2409</th>\n",
       "      <td>Halloween</td>\n",
       "      <td>[{\"id\": 27, \"name\": \"Horror\"}, {\"id\": 53, \"nam...</td>\n",
       "    </tr>\n",
       "    <tr>\n",
       "      <th>3017</th>\n",
       "      <td>Valentine</td>\n",
       "      <td>[{\"id\": 27, \"name\": \"Horror\"}, {\"id\": 53, \"nam...</td>\n",
       "    </tr>\n",
       "    <tr>\n",
       "      <th>2425</th>\n",
       "      <td>They</td>\n",
       "      <td>[{\"id\": 27, \"name\": \"Horror\"}, {\"id\": 53, \"nam...</td>\n",
       "    </tr>\n",
       "    <tr>\n",
       "      <th>666</th>\n",
       "      <td>I, Frankenstein</td>\n",
       "      <td>[{\"id\": 27, \"name\": \"Horror\"}, {\"id\": 53, \"nam...</td>\n",
       "    </tr>\n",
       "    <tr>\n",
       "      <th>4224</th>\n",
       "      <td>Insidious</td>\n",
       "      <td>[{\"id\": 27, \"name\": \"Horror\"}, {\"id\": 53, \"nam...</td>\n",
       "    </tr>\n",
       "  </tbody>\n",
       "</table>\n",
       "</div>"
      ],
      "text/plain": [
       "                      title                                             genres\n",
       "4257                #Horror  [{\"id\": 18, \"name\": \"Drama\"}, {\"id\": 9648, \"na...\n",
       "2306  The Amityville Horror  [{\"id\": 27, \"name\": \"Horror\"}, {\"id\": 53, \"nam...\n",
       "3108              Severance  [{\"id\": 27, \"name\": \"Horror\"}, {\"id\": 35, \"nam...\n",
       "4249             Housebound  [{\"id\": 27, \"name\": \"Horror\"}, {\"id\": 35, \"nam...\n",
       "3840                  Train  [{\"id\": 27, \"name\": \"Horror\"}, {\"id\": 53, \"nam...\n",
       "2409              Halloween  [{\"id\": 27, \"name\": \"Horror\"}, {\"id\": 53, \"nam...\n",
       "3017              Valentine  [{\"id\": 27, \"name\": \"Horror\"}, {\"id\": 53, \"nam...\n",
       "2425                   They  [{\"id\": 27, \"name\": \"Horror\"}, {\"id\": 53, \"nam...\n",
       "666         I, Frankenstein  [{\"id\": 27, \"name\": \"Horror\"}, {\"id\": 53, \"nam...\n",
       "4224              Insidious  [{\"id\": 27, \"name\": \"Horror\"}, {\"id\": 53, \"nam..."
      ]
     },
     "execution_count": 18,
     "metadata": {},
     "output_type": "execute_result"
    }
   ],
   "source": [
    "# Tampilkan rekomendasi\n",
    "print(\"Rekomendasi film berdasarkan kata kunci '{}':\".format(keyword))\n",
    "recommended_movies"
   ]
  }
 ],
 "metadata": {
  "kernelspec": {
   "display_name": "base",
   "language": "python",
   "name": "python3"
  },
  "language_info": {
   "codemirror_mode": {
    "name": "ipython",
    "version": 3
   },
   "file_extension": ".py",
   "mimetype": "text/x-python",
   "name": "python",
   "nbconvert_exporter": "python",
   "pygments_lexer": "ipython3",
   "version": "3.9.13"
  }
 },
 "nbformat": 4,
 "nbformat_minor": 2
}
