{
 "cells": [
  {
   "cell_type": "markdown",
   "metadata": {},
   "source": [
    "### Excercise 1"
   ]
  },
  {
   "cell_type": "code",
   "execution_count": 2,
   "metadata": {},
   "outputs": [
    {
     "name": "stdout",
     "output_type": "stream",
     "text": [
      "anaaa : valid\n",
      "arumi : valid\n",
      "sania : valid\n",
      "vikar : valid\n",
      "andragogi : valid\n",
      "anda : invalid\n",
      "an__a : invalid\n",
      "Arumi : invalid\n",
      "sania99 : invalid\n",
      "dian.a : invalid\n"
     ]
    }
   ],
   "source": [
    "import re\n",
    "\n",
    "names = [\"anaaa\", \"arumi\", \"sania\", \"vikar\", \"andragogi\",\n",
    "        \"anda\", \"an__a\", \"Arumi\", \"sania99\", \"dian.a\"]\n",
    "pattern = \"[a-z]{5,}$\"\n",
    "for name in names:\n",
    "    match = re.search(pattern, name)\n",
    "    if match:\n",
    "        print(f\"{name} : valid\")\n",
    "    else:\n",
    "        print(f\"{name} : invalid\")"
   ]
  },
  {
   "cell_type": "markdown",
   "metadata": {},
   "source": [
    "Memilih nama dengan hanya huruf abjad lower case minimal 5"
   ]
  },
  {
   "cell_type": "markdown",
   "metadata": {},
   "source": [
    "### Excercise 2"
   ]
  },
  {
   "cell_type": "code",
   "execution_count": 9,
   "metadata": {},
   "outputs": [
    {
     "name": "stdout",
     "output_type": "stream",
     "text": [
      "11anaaa : valid\n",
      "18arum : valid\n",
      "30Sania : valid\n",
      "09vika : valid\n",
      "43Andreas : valid\n",
      "67dian.a : valid\n",
      "andara11 : invalid\n",
      "__andri : invalid\n",
      "Arumi10 : invalid\n",
      "9sania : invalid\n",
      "dian.a : invalid\n",
      "10Aruumi10 : invalid\n"
     ]
    }
   ],
   "source": [
    "import re\n",
    "\n",
    "usernames = ['11anaaa', '18arum', '30Sania', '09vika', '43Andreas', '67dian.a',\n",
    "            'andara11', '__andri', 'Arumi10', '9sania', 'dian.a', '10Aruumi10']\n",
    "pattern = r\"^\\d{2}[A-Za-z.]+$\"\n",
    "for username in usernames:\n",
    "    match = re.search(pattern, username)\n",
    "    if match:\n",
    "        print(f\"{username} : valid\")\n",
    "    else:\n",
    "        print(f\"{username} : invalid\")"
   ]
  },
  {
   "cell_type": "markdown",
   "metadata": {},
   "source": [
    "Memilih username yang hanya berpola memiliki diawali tepat 2 digit angka, dan setelah itu diakhiri dengan huruf abjad (uppercase/lowercase) minimal 1"
   ]
  },
  {
   "cell_type": "markdown",
   "metadata": {},
   "source": [
    "### Excercise 3"
   ]
  },
  {
   "cell_type": "code",
   "execution_count": 2,
   "metadata": {},
   "outputs": [
    {
     "name": "stdout",
     "output_type": "stream",
     "text": [
      "Deby@pens.ac.id : valid\n",
      "amai78@pens.ac.id : valid\n",
      "lely_aja@pens.ac.id : valid\n",
      "d4@pens.ac.id : valid\n",
      "7dian@pens.ac.id : invalid\n",
      "d@pens.ac.id : invalid\n",
      "deby@pens.com : invalid\n",
      " _deby@pens : invalid\n"
     ]
    }
   ],
   "source": [
    "import re\n",
    "\n",
    "emails = ['Deby@pens.ac.id', 'amai78@pens.ac.id', 'lely_aja@pens.ac.id', 'd4@pens.ac.id',\n",
    "          '7dian@pens.ac.id', 'd@pens.ac.id', 'deby@pens.com', ' _deby@pens']\n",
    "pattern = r\"^[a-zA-Z][\\w]{1,}@pens\\.ac\\.id$\"\n",
    "for email in emails:\n",
    "    match = re.search(pattern, email)\n",
    "    if match:\n",
    "        print(f\"{email} : valid\")\n",
    "    else:\n",
    "        print(f\"{email} : invalid\")"
   ]
  },
  {
   "cell_type": "markdown",
   "metadata": {},
   "source": [
    "Memilih email yang memiliki pola hanya diawali oleh huruf abjad (uppercase/lowercase) diikuti karakter(huruf, angka, underscore) minimal 1 dan diakhiri '@pens.ac.id'"
   ]
  },
  {
   "cell_type": "markdown",
   "metadata": {},
   "source": [
    "### Excercise 4"
   ]
  },
  {
   "cell_type": "code",
   "execution_count": null,
   "metadata": {},
   "outputs": [
    {
     "name": "stdout",
     "output_type": "stream",
     "text": [
      "Before\n",
      "0    Rp800.000\n",
      "1    Rp337.000\n",
      "2    Rp106.000\n",
      "3    Rp253.999\n",
      "4     Rp96.000\n",
      "Name: harga, dtype: object\n",
      "\n",
      "After\n",
      "0    800000\n",
      "1    337000\n",
      "2    106000\n",
      "3    253999\n",
      "4     96000\n",
      "Name: harga, dtype: int64\n"
     ]
    }
   ],
   "source": [
    "# Cleaning data\n",
    "import re\n",
    "import pandas as pd\n",
    "\n",
    "df = pd.read_excel(\"c:\\\\Users\\\\ASUS\\\\OneDrive\\\\Semester-2\\\\Pemrosesan-Data\\\\Helm.xlsx\")\n",
    "\n",
    "print(\"Before\")\n",
    "print(df['harga'].head())\n",
    "\n",
    "def clean_harga(data):\n",
    "    cleaning = re.sub(\"Rp|\\.\", \"\", data)\n",
    "    return int(cleaning)\n",
    "\n",
    "df['harga'] = df['harga'].apply(clean_harga)\n",
    "\n",
    "print(\"\\nAfter\")\n",
    "print(df['harga'].head())"
   ]
  },
  {
   "cell_type": "markdown",
   "metadata": {},
   "source": [
    "Membuat fungsi untuk membersihkan kolom 'harga' pada data yang di load menggunakan fungsi sub (substitution) untuk mencari \"Rp\" atau \".\" dan diganti nilai kosong (dihapus). "
   ]
  }
 ],
 "metadata": {
  "kernelspec": {
   "display_name": ".venv",
   "language": "python",
   "name": "python3"
  },
  "language_info": {
   "codemirror_mode": {
    "name": "ipython",
    "version": 3
   },
   "file_extension": ".py",
   "mimetype": "text/x-python",
   "name": "python",
   "nbconvert_exporter": "python",
   "pygments_lexer": "ipython3",
   "version": "3.12.5"
  }
 },
 "nbformat": 4,
 "nbformat_minor": 2
}
