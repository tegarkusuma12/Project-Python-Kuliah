{
 "cells": [
  {
   "cell_type": "markdown",
   "id": "2481c71c",
   "metadata": {},
   "source": [
    "## Object Oriented Programming"
   ]
  },
  {
   "cell_type": "markdown",
   "id": "aac7e597",
   "metadata": {},
   "source": [
    "Kelas:\n",
    "1. DataMobil\n",
    "    * Atribut:\n",
    "        - model, nama model mobil(string)\n",
    "        - jarak_tempuh, jarak tempuh yang dilalui mobil(int, default=0)\n",
    "    * Methods:\n",
    "        - tambah_jarak, untuk menambah jarak tempuh mobil(int)\n",
    "        - info, untuk melihat informasi nama model dan jarak tempuh mobil\n",
    "\n",
    "2. PemeliharaanMobil:\n",
    "    * Atribut:\n",
    "        - data_mobil, mengambil data dari object kelas DataMobil\n",
    "        - jarak_servis, arak standar antar servis, dalam kilometer(int, default=10.000)\n",
    "        - biaya_servis, Biaya perawatan per 1000 km(int, default=500.000)\n",
    "    * Methods:\n",
    "        - prediksi_servis_berikutnya, untuk hitung jarak yang tersisa sebelum servis berikutnya\n",
    "        - estimasi_biaya_service, menghitung estimasi total biaya servis mobil berdasarkan jarak tempuh saat ini.\n",
    "        - info_maintainance, melihat informasi perawatan mobil"
   ]
  },
  {
   "cell_type": "code",
   "execution_count": null,
   "id": "d9f609e3",
   "metadata": {},
   "outputs": [],
   "source": [
    "class DataMobil:\n",
    "    # Konstruktor\n",
    "    def __init__(self, model, jarak_tempuh=0):\n",
    "        self.model = model\n",
    "        self.jarak_tempuh = jarak_tempuh\n",
    "\n",
    "    # Metode untuk menambah jarak tempuh\n",
    "    def tambah_jarak(self, jarak):\n",
    "        self.jarak_tempuh += jarak\n",
    "\n",
    "    # Metode untuk melihat informasi mobil\n",
    "    def info(self):\n",
    "        print(f\"Mobil {self.model}\")\n",
    "        print(f\"Jarak tempuh saat ini: {self.jarak_tempuh} km\")\n",
    "\n",
    "class PemeliharaanMobil:\n",
    "    # Konstruktor\n",
    "    def __init__(self, data_mobil):\n",
    "        self.data_mobil = data_mobil # Objek DataMobil\n",
    "        self.jarak_servis = 10000  # Setiap 10.000 km butuh servis\n",
    "        self.biaya_servis = 500000  # Biaya perawatan standar\n",
    "\n",
    "    # Metode hitung jarak yang tersisa sebelum servis berikutnya\n",
    "    def prediksi_servis_berikutnya(self):\n",
    "        jarak_tunggu = self.jarak_servis - (self.data_mobil.jarak_tempuh % self.jarak_servis)\n",
    "        return jarak_tunggu if jarak_tunggu > 0 else 0\n",
    "\n",
    "    # Metode untuk menghitung estimasi biaya servis\n",
    "    def estimasi_biaya_servis(self):\n",
    "        return (self.data_mobil.jarak_tempuh // 1000) * self.biaya_servis\n",
    "\n",
    "    # Metode untuk menampilkan informasi pemeliharaan\n",
    "    def info_maintenance(self):\n",
    "        print(f\"Model Pemeliharaan untuk {self.data_mobil.model}\")\n",
    "        print(f\"Jarak servis berikutnya: {self.prediksi_servis_berikutnya()} km\")\n",
    "        print(f\"Estimasi biaya servis: Rp{self.estimasi_biaya_servis()}\")\n"
   ]
  },
  {
   "cell_type": "code",
   "execution_count": null,
   "id": "2644b9b1",
   "metadata": {},
   "outputs": [
    {
     "name": "stdout",
     "output_type": "stream",
     "text": [
      "Mobil Subaru WRX STi\n",
      "Jarak tempuh saat ini: 15000 km\n",
      "-----------------------\n",
      "Mobil Toyota GR86\n",
      "Jarak tempuh saat ini: 0 km\n"
     ]
    }
   ],
   "source": [
    "# Membuat object dari kelas DataMobil\n",
    "mobil1 = DataMobil(\"Subaru WRX STi\", 15000)\n",
    "mobil2 = DataMobil(\"Toyota GR86\")\n",
    "\n",
    "mobil1.info()\n",
    "print(\"-----------------------\")\n",
    "mobil2.info()"
   ]
  },
  {
   "cell_type": "code",
   "execution_count": 9,
   "id": "d8f20305",
   "metadata": {},
   "outputs": [
    {
     "name": "stdout",
     "output_type": "stream",
     "text": [
      "Mobil Subaru WRX STi\n",
      "Jarak tempuh saat ini: 18000 km\n",
      "-----------------------\n",
      "Mobil Toyota GR86\n",
      "Jarak tempuh saat ini: 7000 km\n"
     ]
    }
   ],
   "source": [
    "# Tambah jarak tempuh object mobil\n",
    "mobil1.tambah_jarak(3000)\n",
    "mobil2.tambah_jarak(7000)\n",
    "\n",
    "mobil1.info()\n",
    "print(\"-----------------------\")\n",
    "mobil2.info()"
   ]
  },
  {
   "cell_type": "code",
   "execution_count": 10,
   "id": "294ae48f",
   "metadata": {},
   "outputs": [
    {
     "name": "stdout",
     "output_type": "stream",
     "text": [
      "Mobil Subaru WRX STi\n",
      "Jarak tempuh saat ini: 20000 km\n",
      "-----------------------\n",
      "Mobil Toyota GR86\n",
      "Jarak tempuh saat ini: 8000 km\n"
     ]
    }
   ],
   "source": [
    "# Tambah jarak lagi\n",
    "mobil1.tambah_jarak(2000)\n",
    "mobil2.tambah_jarak(1000)\n",
    "\n",
    "mobil1.info()\n",
    "print(\"-----------------------\")\n",
    "mobil2.info()"
   ]
  },
  {
   "cell_type": "code",
   "execution_count": null,
   "id": "ba08f858",
   "metadata": {},
   "outputs": [
    {
     "name": "stdout",
     "output_type": "stream",
     "text": [
      "Model Pemeliharaan untuk Subaru WRX STi\n",
      "Jarak servis berikutnya: 10000 km\n",
      "Estimasi biaya servis: Rp10000000\n",
      "-----------------------\n",
      "Model Pemeliharaan untuk Toyota GR86\n",
      "Jarak servis berikutnya: 2000 km\n",
      "Estimasi biaya servis: Rp4000000\n"
     ]
    }
   ],
   "source": [
    "# Membuat object dari kelas ModelPemeliharaan\n",
    "model_mobil1 = PemeliharaanMobil(mobil1)\n",
    "model_mobil2 = PemeliharaanMobil(mobil2)\n",
    "\n",
    "model_mobil1.info_maintenance()\n",
    "print(\"-----------------------\")\n",
    "model_mobil2.info_maintenance()"
   ]
  },
  {
   "cell_type": "code",
   "execution_count": null,
   "id": "4ba7d384",
   "metadata": {},
   "outputs": [
    {
     "name": "stdout",
     "output_type": "stream",
     "text": [
      "Model Pemeliharaan untuk Subaru WRX STi\n",
      "Jarak servis berikutnya: 9500 km\n",
      "Estimasi biaya servis: Rp10000000\n",
      "-----------------------\n",
      "Model Pemeliharaan untuk Toyota GR86\n",
      "Jarak servis berikutnya: 1800 km\n",
      "Estimasi biaya servis: Rp4000000\n"
     ]
    }
   ],
   "source": [
    "# Coba tambah jarak lagi\n",
    "mobil1.tambah_jarak(500)\n",
    "mobil2.tambah_jarak(200)\n",
    "\n",
    "model_mobil1.info_maintenance()\n",
    "print(\"-----------------------\")\n",
    "model_mobil2.info_maintenance()"
   ]
  }
 ],
 "metadata": {
  "kernelspec": {
   "display_name": ".venv",
   "language": "python",
   "name": "python3"
  },
  "language_info": {
   "codemirror_mode": {
    "name": "ipython",
    "version": 3
   },
   "file_extension": ".py",
   "mimetype": "text/x-python",
   "name": "python",
   "nbconvert_exporter": "python",
   "pygments_lexer": "ipython3",
   "version": "3.12.5"
  }
 },
 "nbformat": 4,
 "nbformat_minor": 5
}
