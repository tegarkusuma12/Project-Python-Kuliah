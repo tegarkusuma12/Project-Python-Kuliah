{
 "cells": [
  {
   "cell_type": "code",
   "execution_count": 1,
   "metadata": {},
   "outputs": [
    {
     "name": "stdout",
     "output_type": "stream",
     "text": [
      "Hasil pencocokan:\n",
      "- Pada\n",
      "- Workshop\n",
      "- Pemrograman\n",
      "- Dasar\n",
      "- Python\n",
      "- Surabaya\n",
      "- Sebanyak\n",
      "- Setiap\n",
      "- Nomor\n",
      "- Kontak\n",
      "- Pembicara\n",
      "- Ir\n",
      "- Budi\n",
      "- Santosa\n",
      "- Dr\n",
      "- Eng\n",
      "- Rina\n",
      "- Dewi\n",
      "- Kusuma\n",
      "- Acara\n",
      "- Kode\n"
     ]
    }
   ],
   "source": [
    "# load\n",
    "import re\n",
    "\n",
    "with open(\"narasi.txt\", \"r\") as file:\n",
    "    data = file.read()\n",
    "\n",
    "# Pattern: kata yang diawali huruf kapital (A-Z) dan diikuti huruf kecil\n",
    "pattern = r\"\\b[A-Z][a-z]+\"\n",
    "\n",
    "# Temukan semua kecocokan\n",
    "hasil = re.findall(pattern, data)\n",
    "\n",
    "# Cetak hasilnya\n",
    "print(\"Hasil pencocokan:\")\n",
    "for kata in hasil:\n",
    "    print(\"-\", kata)"
   ]
  },
  {
   "cell_type": "code",
   "execution_count": 67,
   "metadata": {},
   "outputs": [
    {
     "name": "stdout",
     "output_type": "stream",
     "text": [
      "Hasil pencocokan:\n",
      "- rudi.ardiansyah@students.pens.ac.id\n",
      "- lina_rahma98@gmail.com\n",
      "- dina@webmail.pens.ac.id\n",
      "- info@pens.ac.id\n"
     ]
    }
   ],
   "source": [
    "# Ambil semua email\n",
    "import re\n",
    "\n",
    "with open(\"narasi.txt\", \"r\") as file:\n",
    "    data = file.read()\n",
    "\n",
    "pattern = r\"[\\w\\.-]+@[\\w\\.-]+\\.\\w+\"\n",
    "\n",
    "# Temukan semua kecocokan\n",
    "hasil = re.findall(pattern, data)\n",
    "\n",
    "# Cetak hasilnya\n",
    "print(\"Hasil pencocokan:\")\n",
    "for kata in hasil:\n",
    "    print(\"-\", kata)"
   ]
  },
  {
   "cell_type": "code",
   "execution_count": 12,
   "metadata": {},
   "outputs": [
    {
     "name": "stdout",
     "output_type": "stream",
     "text": [
      "Hasil pencocokan: <re.Match object; span=(0, 4), match='Pada'> ternyata ada\n"
     ]
    }
   ],
   "source": [
    "# Cek apakah dalam file terkandung suatu kata\n",
    "import re\n",
    "\n",
    "with open(\"narasi.txt\", \"r\") as file:\n",
    "    data = file.read()\n",
    "\n",
    "# Pattern: Temukan semua tanggal dengan format dd-mm-yyyy\n",
    "pattern = r\"Pada\"\n",
    "\n",
    "# Temukan semua kecocokan\n",
    "hasil = re.search(pattern, data)\n",
    "\n",
    "# Cetak hasilnya\n",
    "if hasil:\n",
    "    print(f\"Hasil pencocokan: {hasil} ternyata ada\")\n",
    "else:\n",
    "    print(\"kata tidak ada\")"
   ]
  },
  {
   "cell_type": "code",
   "execution_count": null,
   "metadata": {},
   "outputs": [
    {
     "name": "stdout",
     "output_type": "stream",
     "text": [
      "Hasil pencocokan: Valid\n"
     ]
    }
   ],
   "source": [
    "# Validasi apakah string \"REG-2389\" adalah kode registrasi yang sah. \n",
    "import re\n",
    "\n",
    "# Kode registrasi peserta terdiri dari format REG-XXXX, contohnya: REG-1023, REG-2389, dan REG-9999.\n",
    "pattern = r\"REG-\\d{4}\"\n",
    "\n",
    "# Temukan semua kecocokan\n",
    "hasil = re.fullmatch(pattern, \"REG-2389\")\n",
    "\n",
    "# Cetak hasilnya\n",
    "if hasil:\n",
    "    print(f\"Hasil pencocokan: Valid\")\n",
    "else:\n",
    "    print(f\"Hasil pencocokan: Tidak valid\")"
   ]
  },
  {
   "cell_type": "code",
   "execution_count": 56,
   "metadata": {},
   "outputs": [
    {
     "name": "stdout",
     "output_type": "stream",
     "text": [
      "Before\n",
      "Pembicara utama dalam acara ini adalah Ir. Budi Santosa, M.T. dan Dr. Eng. Rina Dewi Kusuma.\n",
      "\n",
      "After\n",
      "Pembicara utama dalam acara ini adalah Budi Santosa, dan Rina Dewi Kusuma.\n"
     ]
    }
   ],
   "source": [
    "# Hapus semua gelar seperti Dr., Ir., M.T, dan Dr. Eng. dari isi narasi.\n",
    "import re\n",
    "\n",
    "# cek before\n",
    "with open(\"narasi.txt\", \"r\") as file:\n",
    "    line = file.readlines()\n",
    "    print(\"Before\")\n",
    "    print(line[11])\n",
    "\n",
    "# Pola regex untuk mencocokkan gelar\n",
    "pattern = r\"(Dr\\. Eng\\. |Dr\\. |Ir\\. |M\\.T\\. ?)\"\n",
    "\n",
    "# Hapus gelar dari baris ke-12\n",
    "cleaned_line = re.sub(pattern, \"\", line[11]).strip()\n",
    "\n",
    "print(\"After\")\n",
    "print(cleaned_line)\n"
   ]
  },
  {
   "cell_type": "code",
   "execution_count": null,
   "metadata": {},
   "outputs": [
    {
     "name": "stdout",
     "output_type": "stream",
     "text": [
      "0812-3456-7890\n",
      "+62 812-8888-1234\n"
     ]
    }
   ],
   "source": [
    "# Ambil semua nomor telepon yang disebutkan (baik +62 maupun 08).\n",
    "import re\n",
    "\n",
    "with open(\"narasi.txt\", \"r\") as file:\n",
    "    content = file.read()\n",
    "\n",
    "# - Mulai dengan +62 atau 08\n",
    "# - Diikuti oleh angka, tanda hubung (-), atau spasi\n",
    "# - Harus memiliki total 8-13 digit angka\n",
    "pattern = r\"(?:\\+62|08)[\\d\\s-]+\"\n",
    "# pattern = r\"(?:\\+62\\s?\\d{3}-\\d{4}-\\d{4}|08\\d{2}-\\d{4}-\\d{4})\"\n",
    "\n",
    "hasil = re.findall(pattern, content)\n",
    "\n",
    "for n in hasil:\n",
    "    print(n)"
   ]
  },
  {
   "cell_type": "code",
   "execution_count": 58,
   "metadata": {},
   "outputs": [
    {
     "name": "stdout",
     "output_type": "stream",
     "text": [
      "Jam yang ditemukan:\n",
      "08:00\n",
      "16:30\n"
     ]
    }
   ],
   "source": [
    "# Temukan semua jam yang disebut dalam narasi (format hh:mm).\n",
    "import re\n",
    "\n",
    "with open(\"narasi.txt\", \"r\") as file:\n",
    "    content = file.read()\n",
    "\n",
    "# Pola regex untuk mencocokkan format jam hh:mm\n",
    "# - hh: dua digit angka (00-23)\n",
    "# - mm: dua digit angka (00-59)\n",
    "pattern = r\"\\b\\d{2}:\\d{2}\\b\"\n",
    "\n",
    "# Temukan semua jam\n",
    "hasil = re.findall(pattern, content)\n",
    "\n",
    "# Cetak hasil\n",
    "print(\"Jam yang ditemukan:\")\n",
    "for jam in hasil:\n",
    "    print(jam)"
   ]
  },
  {
   "cell_type": "markdown",
   "metadata": {},
   "source": [
    "- \\b\tBatas kata (agar tidak menangkap abc08:00xyz)\n",
    "- \\d{2}\tDua digit angka (untuk jam dan menit)\n",
    "- :\tLiteral tanda titik dua\n",
    "- \\b\tBatas akhir kata"
   ]
  },
  {
   "cell_type": "code",
   "execution_count": 60,
   "metadata": {},
   "outputs": [
    {
     "name": "stdout",
     "output_type": "stream",
     "text": [
      "Kode registrasi ditemukan:\n",
      "- REG-1023\n",
      "- REG-2389\n",
      "- REG-9999\n"
     ]
    }
   ],
   "source": [
    "# Temukan semua kode registrasi seperti REG-9999.\n",
    "import re\n",
    "\n",
    "with open(\"narasi.txt\", \"r\", encoding=\"utf-8\") as file:\n",
    "    data = file.read()\n",
    "\n",
    "pattern = r\"REG-\\d{4}\"\n",
    "hasil = re.findall(pattern, data)\n",
    "\n",
    "print(\"Kode registrasi ditemukan:\")\n",
    "for kode in hasil:\n",
    "    print(\"-\", kode)"
   ]
  },
  {
   "cell_type": "code",
   "execution_count": 64,
   "metadata": {},
   "outputs": [
    {
     "name": "stdout",
     "output_type": "stream",
     "text": [
      "57\n"
     ]
    }
   ],
   "source": [
    "# Ambil jumlah peserta yang hadir dari narasi.\n",
    "import re\n",
    "\n",
    "with open(\"narasi.txt\", \"r\", encoding=\"utf-8\") as file:\n",
    "    data = file.read()\n",
    "\n",
    "pattern = r\"(?<=Sebanyak )\\d+(?= peserta)\"\n",
    "hasil = re.findall(pattern, data)\n",
    "\n",
    "for n in hasil:\n",
    "    print(n)"
   ]
  },
  {
   "cell_type": "code",
   "execution_count": 65,
   "metadata": {},
   "outputs": [
    {
     "name": "stdout",
     "output_type": "stream",
     "text": [
      "Domain email ditemukan:\n",
      "- students.pens.ac.id\n",
      "- gmail.com\n",
      "- webmail.pens.ac.id\n",
      "- pens.ac.id\n"
     ]
    }
   ],
   "source": [
    "# Ambil semua domain email (contoh: gmail.com, pens.ac.id).\n",
    "import re\n",
    "\n",
    "with open(\"narasi.txt\", \"r\", encoding=\"utf-8\") as file:\n",
    "    data = file.read()\n",
    "\n",
    "# Ambil domain setelah '@'\n",
    "pattern = r\"@([\\w\\.-]+)\"\n",
    "hasil = re.findall(pattern, data)\n",
    "\n",
    "print(\"Domain email ditemukan:\")\n",
    "for d in hasil:\n",
    "    print(\"-\", d)\n"
   ]
  },
  {
   "cell_type": "code",
   "execution_count": 68,
   "metadata": {},
   "outputs": [
    {
     "name": "stdout",
     "output_type": "stream",
     "text": [
      "12-03-2023\n"
     ]
    }
   ],
   "source": [
    "# Ambil semua tanggal mm--dd--yyyy\n",
    "import re\n",
    "\n",
    "with open(\"narasi.txt\", \"r\") as file:\n",
    "    content = file.read()\n",
    "\n",
    "pattern = r\"\\b\\d{2}-\\d{2}-\\d{4}\\b\"\n",
    "\n",
    "\n",
    "hasil = re.findall(pattern, content)\n",
    "\n",
    "for n in hasil:\n",
    "    print(n)"
   ]
  },
  {
   "cell_type": "code",
   "execution_count": 5,
   "metadata": {},
   "outputs": [
    {
     "name": "stdout",
     "output_type": "stream",
     "text": [
      "Hasil: \n",
      "rudi.ardiansyah@students.pens.ac.id -> (268, 303)\n",
      "lina_rahma98@gmail.com -> (306, 328)\n",
      "dina@webmail.pens.ac.id -> (331, 354)\n",
      "info@pens.ac.id -> (462, 477)\n"
     ]
    }
   ],
   "source": [
    "# Temukan dan tampilkan semua email, serta posisi (start, end) setiap email dalam teks\n",
    "import re\n",
    "\n",
    "with open(\"narasi.txt\", \"r\") as file:\n",
    "    data = file.read()\n",
    "\n",
    "pattern = r\"[\\w\\.-]+@[\\w\\.-]+\\.\\w+\"\n",
    "hasil = re.finditer(pattern, data)\n",
    "\n",
    "print(\"Hasil: \")\n",
    "for n in hasil:\n",
    "    print(n.group(), \"->\", n.span())"
   ]
  },
  {
   "cell_type": "code",
   "execution_count": 6,
   "metadata": {},
   "outputs": [
    {
     "name": "stdout",
     "output_type": "stream",
     "text": [
      "['Pembicara utama dalam acara ini adalah Ir. Budi Santosa, M.T.', 'Dr. Eng. Rina Dewi Kusuma.']\n"
     ]
    }
   ],
   "source": [
    "# Pisahkan \n",
    "import re\n",
    "\n",
    "with open(\"narasi.txt\", \"r\") as file:\n",
    "    data = file.read()\n",
    "\n",
    "kalimat = \"Pembicara utama dalam acara ini adalah Ir. Budi Santosa, M.T. dan Dr. Eng. Rina Dewi Kusuma.\"\n",
    "bagian = re.split(r\"\\s+dan\\s+\", kalimat)\n",
    "print(bagian)"
   ]
  },
  {
   "cell_type": "code",
   "execution_count": 7,
   "metadata": {},
   "outputs": [
    {
     "name": "stdout",
     "output_type": "stream",
     "text": [
      "user@example.com\n"
     ]
    }
   ],
   "source": [
    "import re\n",
    "text = \"Email: user@example.com\"\n",
    "match = re.search(r\"[\\w\\.-]+@[\\w\\.-]+\\.\\w+\", text)\n",
    "print(match.group())  # 👉 'user@example.com'"
   ]
  },
  {
   "cell_type": "code",
   "execution_count": 8,
   "metadata": {},
   "outputs": [
    {
     "name": "stdout",
     "output_type": "stream",
     "text": [
      "('user', 'example.com')\n",
      "user\n",
      "example.com\n"
     ]
    }
   ],
   "source": [
    "pattern = r\"(\\w+)@([\\w\\.-]+)\"\n",
    "text = \"user@example.com\"\n",
    "match = re.search(pattern, text)\n",
    "print(match.groups())     # 👉 ('user', 'example.com')\n",
    "print(match.group(1))     # 👉 'user'\n",
    "print(match.group(2))     # 👉 'example.com'"
   ]
  },
  {
   "cell_type": "code",
   "execution_count": 9,
   "metadata": {},
   "outputs": [
    {
     "name": "stdout",
     "output_type": "stream",
     "text": [
      "{'user': 'admin', 'domain': 'gmail.com'}\n"
     ]
    }
   ],
   "source": [
    "pattern = r\"(?P<user>\\w+)@(?P<domain>[\\w\\.-]+)\"\n",
    "match = re.search(pattern, \"admin@gmail.com\")\n",
    "print(match.groupdict())  # 👉 {'user': 'admin', 'domain': 'gmail.com'}"
   ]
  }
 ],
 "metadata": {
  "kernelspec": {
   "display_name": "base",
   "language": "python",
   "name": "python3"
  },
  "language_info": {
   "codemirror_mode": {
    "name": "ipython",
    "version": 3
   },
   "file_extension": ".py",
   "mimetype": "text/x-python",
   "name": "python",
   "nbconvert_exporter": "python",
   "pygments_lexer": "ipython3",
   "version": "3.9.13"
  }
 },
 "nbformat": 4,
 "nbformat_minor": 2
}
