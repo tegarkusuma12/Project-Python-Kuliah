{
 "cells": [
  {
   "cell_type": "markdown",
   "metadata": {},
   "source": [
    "# Excercise 1"
   ]
  },
  {
   "cell_type": "code",
   "execution_count": 73,
   "metadata": {},
   "outputs": [
    {
     "name": "stdout",
     "output_type": "stream",
     "text": [
      "Rp 25.0000 is match\n",
      "Rp5000 is match\n",
      "3000 is not\n"
     ]
    }
   ],
   "source": [
    "# Search\n",
    "import re\n",
    "\n",
    "data = ['Rp 25.0000', 'Rp5000', '3000']\n",
    "pattern = r\"Rp\\s?\\d+\"\n",
    "for text in data:\n",
    "    match = re.search(pattern, text)\n",
    "    if match:\n",
    "        print(f\"{text} is match\")\n",
    "    else:\n",
    "        print(f\"{text} is not\")"
   ]
  },
  {
   "cell_type": "code",
   "execution_count": 72,
   "metadata": {},
   "outputs": [
    {
     "name": "stdout",
     "output_type": "stream",
     "text": [
      "Rp 25.0000 is match\n",
      "Rp5000 is match\n",
      "3000 is not\n"
     ]
    }
   ],
   "source": [
    "# Match\n",
    "import re\n",
    "\n",
    "data = ['Rp 25.0000', 'Rp5000', '3000']\n",
    "pattern = r\"^Rp\\s?\\d+(\\.\\d+)?$\"\n",
    "for text in data:\n",
    "    match = re.match(pattern, text)\n",
    "    if match:\n",
    "        print(f\"{text} is match\")\n",
    "    else:\n",
    "        print(f\"{text} is not\")"
   ]
  },
  {
   "cell_type": "markdown",
   "metadata": {},
   "source": [
    "Search bisa melihat pola dimanapun tanpa harus mencari \"awal\". Match harus kita beri \"awal\" dan \"akhir\"."
   ]
  },
  {
   "cell_type": "markdown",
   "metadata": {},
   "source": [
    "# Excercise 2"
   ]
  },
  {
   "cell_type": "code",
   "execution_count": 2,
   "metadata": {},
   "outputs": [
    {
     "name": "stdout",
     "output_type": "stream",
     "text": [
      "Surabaya, pens.ac.id – Sidang Terbuka Senat dalam rangka pengukuhan lima Guru Besar baru kembali dihelat pada Senin (24/2), di Ruang Auditorium Lt. 6 Gedung Pascasarjana Politeknik Elektronika Negeri Surabaya (PENS). Kegiatan yang dihadiri oleh jajaran direksi, civitas akademika, keluarga, serta tamu undangan tersebut menandai bertambahnya tenaga pendidik berkualitas di PENS. Adapun para Guru Besar yang dikukuhkan pada kegiatan ini, di antaranya empat dari Departemen Teknik Elektro, yakni Prof. Dr. Ir. Era Purwanto, M.Eng., Prof. Dr. Mike Yuliana, S.T., M.T., Prof. Dr. Arman Jaya, S.T., M.T., Prof. Mochammad Zen Samsono Hadi, S.T., M.Sc., Ph.D., serta Prof. Dr.Eng. Indra Adji Sulistijono, S.T., M.Eng. dari Departemen Teknik Mekanika dan Energi. Setelah pengukuhan para Guru Besar tersebut, diharapkan PENS terus memberikan kontribusi positif yang signifikan bagi kemajuan dunia pendidikan serta teknologi di Indonesia.\n",
      "\n",
      "\n",
      "Melalui pembacaan Surat Keputusan (SK) Menteri Pendidikan Tinggi, Sains, dan Teknologi Republik Indonesia terkait kenaikan jabatan akademik dan fungsional dosen, jumlah guru besar di PENS kini mencapai 13 profesor yang tersebar di berbagai bidang keilmuan. Setelah pembacaan daftar riwayat hidup para Guru Besar, kegiatan dilanjutkan dengan prosesi pengalungan samir sebagai simbol kehormatan dan pengakuan atas dedikasi mereka dalam dunia akademik. Puncaknya, dilaksanakan penyerahan SK Menteri Pendidikan Tinggi, Sains, dan Teknologi Republik Indonesia kepada masing-masing Guru Besar oleh Direktur PENS, Aliridho Barakbah, S.Kom., Ph.D.\n",
      "\n",
      "Prosesi ini sekaligus menjadi kesempatan bagi kelima Guru Besar untuk menyampaikan hasil penelitiannya melalui orasi ilmiah. Secara berurutan, dimulai oleh Prof. Dr. Ir. Era Purwanto, M.Eng. dengan judul orasi ilmiah Pengembangan Technology Vector Control untuk Technology Electric Drive pada Dunia Industri Transportation Era Industri. Kemudian, Prof. Dr. Mike Yuliana, S.T., M.T. yang mengusung judul orasi ilmiah Pengembangan Teknologi Kriptografi Berbasis Sinyal sebagai Inovasi Baru dalam Keamanan Jaringan Komunikasi di Indonesia. Prof. Dr. Arman Jaya, S.T., M.T. dengan judul orasi ilmiah Penerapan Electrical Power Train untuk Mendukung Elektrifikasi Mesin Pertanian Padi Indonesia Kedepan. Selanjutnya, Prof. Dr.Eng. Indra Adji Sulistijono, S.T., M.Eng. dengan judul orasi ilmiah Sistem Mekatronika Cerdas: dari Teori, Menuju Kompetisi dan Implementasi. Tidak ketinggalan Prof. Moch. Zen Samsono Hadi, S.T., M.Sc., Ph.D. dengan kepakaran Komunikasi Sensor Nirkabel yang menyampaikan Judul Orasi Ilmiah Peranan Komunikasi Sensor Nirkabel dalam Menunjang Program Indonesia yang mengangkat dua bidang utama, yakni pemetaan bencana dan pertanian. Pada bidang pemetaan bencana, teknologi ini berperan dalam pemetaan bencana, protokol komunikasi multihop, pencarian dan klasifikasi korban, serta pemantauan kesehatan korban. Sedangkan pada bidang pertanian, kepakaran ini mencakup teknologi pendeteksi kesuburan tanah, prediksi cuaca, monitoring irigasi, dan deteksi hama atau penyakit tanaman.\n"
     ]
    }
   ],
   "source": [
    "import re\n",
    "\n",
    "with open(\"D:\\\\Datasets\\\\berita.txt\", \"r\") as file:\n",
    "    data = file.read()\n",
    "    print(data)"
   ]
  },
  {
   "cell_type": "code",
   "execution_count": null,
   "metadata": {},
   "outputs": [
    {
     "name": "stdout",
     "output_type": "stream",
     "text": [
      "['SK', 'PENS']\n"
     ]
    }
   ],
   "source": [
    "with open(\"D:\\\\Datasets\\\\berita.txt\", \"r\") as file: # buka file context manager, r untuk read\n",
    "    data = file.read()\n",
    "\n",
    "    match = re.findall(r\"PENS|SK\", data)\n",
    "    print(list(set(match)))"
   ]
  },
  {
   "cell_type": "markdown",
   "metadata": {},
   "source": [
    "findall akan mencari pola yang cocok dengan pattern lalu diubah ke list"
   ]
  },
  {
   "cell_type": "markdown",
   "metadata": {},
   "source": [
    "# Excercise 3"
   ]
  },
  {
   "cell_type": "code",
   "execution_count": null,
   "metadata": {},
   "outputs": [
    {
     "name": "stdout",
     "output_type": "stream",
     "text": [
      "['Penerapan Electrical Power Train untuk Mendukung Elektrifikasi Mesin Pertanian Padi Indonesia Kedepan', 'Pengembangan Technology Vector Control untuk Technology Electric Drive pada Dunia Industri Transportation Era Industri', 'Pengembangan Teknologi Kriptografi Berbasis Sinyal sebagai Inovasi Baru dalam Keamanan Jaringan Komunikasi di Indonesia', 'Peranan Komunikasi Sensor Nirkabel dalam Menunjang Program Indonesia yang mengangkat dua bidang utama, yakni pemetaan bencana dan pertanian', 'Sistem Mekatronika Cerdas: dari Teori, Menuju Kompetisi dan Implementasi']\n"
     ]
    }
   ],
   "source": [
    "with open(\"D:\\\\Datasets\\\\berita.txt\", \"r\") as file: # buka file context manager, r untuk read\n",
    "    data = file.read()\n",
    "\n",
    "    pattern = r\"judul orasi ilmiah ([^.]+)\"\n",
    "    titles = re.findall(pattern, data, re.IGNORECASE)\n",
    "    print(sorted(titles))    "
   ]
  },
  {
   "cell_type": "markdown",
   "metadata": {},
   "source": [
    "Cari kalimat yang awalnya \"judul orasi ilmiah \" lalu kita ambil karakter setelahnya selain titik, bisa lebih dari 1."
   ]
  },
  {
   "cell_type": "markdown",
   "metadata": {},
   "source": [
    "# Excercise 4"
   ]
  },
  {
   "cell_type": "code",
   "execution_count": null,
   "metadata": {},
   "outputs": [
    {
     "name": "stdout",
     "output_type": "stream",
     "text": [
      "['Arman Jaya', 'Era Purwanto', 'Indra Adji Sulistijono', 'Mike Yuliana', 'Moch. Zen Samsono Hadi', 'Mochammad Zen Samsono Hadi']\n"
     ]
    }
   ],
   "source": [
    "with open(\"D:\\\\Datasets\\\\berita.txt\", \"r\") as file: # buka file context manager, r untuk read\n",
    "    data = file.read()  \n",
    "\n",
    "    pattern = r\"(?<=Prof. )([A-Za-z .]+)(?=,)\" # cari awalan yang memiliki gelar Prof. dan semua huruf, spasi dan titik sampai koma \n",
    "    full = re.findall(pattern, data)\n",
    "    name = [re.sub(r\"Prof\\.|Dr\\.Eng\\.|Dr\\. Ir\\.|Dr\\.|, [A-Z.\\s]+\", \"\", name).strip() for name in full] # ganti gelar dengan string kosong\n",
    "    names = sorted(set(name))\n",
    "    print(names) "
   ]
  },
  {
   "cell_type": "markdown",
   "metadata": {},
   "source": [
    "pakai findall dan sub"
   ]
  },
  {
   "cell_type": "markdown",
   "metadata": {},
   "source": [
    "# Excercise 5"
   ]
  },
  {
   "cell_type": "code",
   "execution_count": null,
   "metadata": {},
   "outputs": [
    {
     "name": "stdout",
     "output_type": "stream",
     "text": [
      "0    the product quality is amazing i love it \n",
      "1      terrible service i will never buy again\n",
      "2             pretty good  but could be better\n",
      "3              absolutely fantastic experience\n",
      "4               not great  had a lot of issues\n",
      "5            i am so happy with this purchase \n",
      "6                worst decision ever waste of \n",
      "7         it works fine; nothing extraordinary\n",
      "8                    exceeded my expectations \n",
      "9          disappointed it broke after a week \n",
      "Name: review_text, dtype: object\n"
     ]
    }
   ],
   "source": [
    "import pandas as pd\n",
    "import re \n",
    "\n",
    "df = pd.read_csv(\"D:\\\\Datasets\\\\reviews_dataset_updated.csv\") # Load data csv\n",
    "# df.head(), df.info() untuk melihat \n",
    "\n",
    "def cleaning(text):\n",
    "    match = re.sub( r\"[\\d\\.\\!\\@\\#\\$\\%\\^\\&\\*\\(\\)\\:\\<\\>\\\\\\/\\,]\", \"\", text) # ganti dengan string kosong untuk pattern \n",
    "    return match.lower() # lowercase karakter\n",
    "\n",
    "df['review_text'] = df['review_text'].apply(cleaning) # apply untuk menerapkan semua row pada kolom ke fungsi\n",
    "\n",
    "print(df['review_text']) #lihat hasil\n",
    "\n",
    "# Simpan hasil ke file CSV baru\n",
    "df.to_csv(\"cleaned.csv\", index=False)"
   ]
  },
  {
   "cell_type": "markdown",
   "metadata": {},
   "source": [
    "sub itu substituion, untuk mengganti."
   ]
  }
 ],
 "metadata": {
  "kernelspec": {
   "display_name": "base",
   "language": "python",
   "name": "python3"
  },
  "language_info": {
   "codemirror_mode": {
    "name": "ipython",
    "version": 3
   },
   "file_extension": ".py",
   "mimetype": "text/x-python",
   "name": "python",
   "nbconvert_exporter": "python",
   "pygments_lexer": "ipython3",
   "version": "3.9.13"
  }
 },
 "nbformat": 4,
 "nbformat_minor": 2
}
