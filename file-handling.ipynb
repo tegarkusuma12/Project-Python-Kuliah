{
 "cells": [
  {
   "cell_type": "markdown",
   "metadata": {},
   "source": [
    "Latihan 1"
   ]
  },
  {
   "cell_type": "code",
   "execution_count": null,
   "metadata": {},
   "outputs": [
    {
     "name": "stdout",
     "output_type": "stream",
     "text": [
      "Pilih Menu:\n",
      "==============================\n",
      "\n",
      "1. Baca file\n",
      "2. Tulis sesuatu ke file\n",
      "\n",
      "Aku suka ayam geprek\n",
      "Tapi pingin bakso\n",
      "Mau eskrim\n"
     ]
    },
    {
     "ename": "AttributeError",
     "evalue": "'str' object has no attribute 'close'",
     "output_type": "error",
     "traceback": [
      "\u001b[1;31m---------------------------------------------------------------------------\u001b[0m",
      "\u001b[1;31mAttributeError\u001b[0m                            Traceback (most recent call last)",
      "Cell \u001b[1;32mIn[9], line 29\u001b[0m\n\u001b[0;32m     27\u001b[0m     sudah \u001b[38;5;241m=\u001b[39m \u001b[38;5;28minput\u001b[39m(\u001b[38;5;124m\"\u001b[39m\u001b[38;5;124mApakah sudah?(y/n): \u001b[39m\u001b[38;5;124m\"\u001b[39m)\n\u001b[0;32m     28\u001b[0m     \u001b[38;5;28;01mif\u001b[39;00m sudah\u001b[38;5;241m.\u001b[39mlower() \u001b[38;5;241m==\u001b[39m \u001b[38;5;124m\"\u001b[39m\u001b[38;5;124my\u001b[39m\u001b[38;5;124m\"\u001b[39m:\n\u001b[1;32m---> 29\u001b[0m         \u001b[43mdirectory\u001b[49m\u001b[38;5;241;43m.\u001b[39;49m\u001b[43mclose\u001b[49m()\n\u001b[0;32m     30\u001b[0m         \u001b[38;5;28;01mbreak\u001b[39;00m\n\u001b[0;32m     31\u001b[0m \u001b[38;5;28;01melse\u001b[39;00m:\n",
      "\u001b[1;31mAttributeError\u001b[0m: 'str' object has no attribute 'close'"
     ]
    }
   ],
   "source": [
    "directory = \"C:\\\\Users\\\\ASUS\\\\OneDrive\\\\Belajar-Ngoding\\\\Belajar-py\\\\coba1.txt\"\n",
    "\n",
    "def menu(x):\n",
    "    if x == 1:\n",
    "        file = open(directory, \"r\")\n",
    "        for data in file.readlines():\n",
    "            result = print(data, end=\"\")\n",
    "    \n",
    "    if x == 2:\n",
    "        teks = input(\"Tulis sesuatu: \")\n",
    "        file = open(directory, \"a\")\n",
    "        result = file.write(teks + \"\\n\")\n",
    "\n",
    "    return result\n",
    "\n",
    "print(\"Pilih Menu:\")\n",
    "print(\"=\"*30)\n",
    "print(\"\"\"\n",
    "1. Baca file\n",
    "2. Tulis sesuatu ke file\n",
    "\"\"\")\n",
    "\n",
    "while True:\n",
    "    inputs = int(input(\"Mau apa?(1/2): \"))\n",
    "    if inputs in [1,2]:\n",
    "        menu(inputs)\n",
    "        sudah = input(\"Apakah sudah?(y/n): \")\n",
    "        if sudah.lower() == \"y\":\n",
    "            # directory.close()\n",
    "            break\n",
    "    else:\n",
    "        print(\"Input salah\")"
   ]
  },
  {
   "cell_type": "markdown",
   "metadata": {},
   "source": [
    "Var. directory menimpan alamat file\n",
    "\n",
    "- Jika kita memilih menu 1 maka nilai 1 akan ditangkap oleh fungsi menu, jika 1 berarti kita membuka directory dengan opsi \"r\", kita membuat perulangan untuk membaca setiap baris dengan readline() dan hasilnya akan dikembalikan fungsi\n",
    "\n",
    "- Jika kita memilih menu 2 maka nilai 2 akan ditangkap oleh fungsi menu, jika 2 berarti kita menginputkan teks untuk ditulis di directory, membuka directory dengan opsi \"a\", karena kita akan menuliskan sesuatu berada di baris baru tanpa menghapus isi file yang lama dan hasilnya akan dikembalikan fungsi\n",
    "\n",
    "- Pada baris 30 kita harus menutup file yang sudah di buka"
   ]
  },
  {
   "cell_type": "markdown",
   "metadata": {},
   "source": [
    "Latihan 2"
   ]
  },
  {
   "cell_type": "code",
   "execution_count": 14,
   "metadata": {},
   "outputs": [
    {
     "name": "stdout",
     "output_type": "stream",
     "text": [
      "Pilih Menu:\n",
      "==============================\n",
      "\n",
      "1. Baca file\n",
      "2. Tulis sesuatu ke file\n",
      "\n",
      "Aku suka ayam geprek\n",
      "Tapi pingin bakso\n",
      "Mau eskrim\n"
     ]
    }
   ],
   "source": [
    "directory = \"C:\\\\Users\\\\ASUS\\\\OneDrive\\\\Belajar-Ngoding\\\\Belajar-py\\\\coba1.txt\"\n",
    "\n",
    "def menu(x):\n",
    "    if x == 1:\n",
    "        with open(directory, \"r\") as file:\n",
    "            for data in file.readlines():\n",
    "                result = print(data, end=\"\")\n",
    "    \n",
    "    if x == 2:\n",
    "        teks = input(\"Tulis sesuatu: \")\n",
    "        with open(directory, \"a\") as file:\n",
    "            result = file.write(teks + \"\\n\")\n",
    "\n",
    "    return result\n",
    "\n",
    "print(\"Pilih Menu:\")\n",
    "print(\"=\"*30)\n",
    "print(\"\"\"\n",
    "1. Baca file\n",
    "2. Tulis sesuatu ke file\n",
    "\"\"\")\n",
    "\n",
    "while True:\n",
    "    inputs = int(input(\"Mau apa?(1/2): \"))\n",
    "    if inputs in [1,2]:\n",
    "        menu(inputs)\n",
    "        sudah = input(\"Apakah sudah?(y/n): \")\n",
    "        if sudah.lower() == \"y\":\n",
    "            break\n",
    "    else:\n",
    "        print(\"Input salah\")\n"
   ]
  },
  {
   "cell_type": "markdown",
   "metadata": {},
   "source": [
    "Context manager berfungsi untuk menutup file yang sudah dibuka secara otomatis. Jadi pada fungsi menu sebelum membuka kita tambahkan klausa \"with\" dan kita buat alias, kita tidak perlu menutup dengan close()"
   ]
  },
  {
   "cell_type": "markdown",
   "metadata": {},
   "source": [
    "Latiahn 3"
   ]
  },
  {
   "cell_type": "code",
   "execution_count": null,
   "metadata": {},
   "outputs": [
    {
     "name": "stdout",
     "output_type": "stream",
     "text": [
      "Nama sudah ada pada daftar\n"
     ]
    }
   ],
   "source": [
    "directory = \"C:\\\\Users\\\\ASUS\\\\OneDrive\\\\Belajar-Ngoding\\\\Belajar-py\\\\name.txt\"\n",
    "\n",
    "ls_name = []\n",
    "with open(directory, \"r\") as file:\n",
    "    for data in file.readlines():\n",
    "        ls_name = [data.strip().lower() for data in file.readlines()]\n",
    "\n",
    "while True:\n",
    "    name = input(\"Masukkan nama: \").lower()\n",
    "\n",
    "    if name in ls_name:\n",
    "        print(\"Nama sudah ada pada daftar\")\n",
    "    else:   \n",
    "        ls_name.append(name)\n",
    "    \n",
    "    repeat = input(\"Ulangi masukkan nama?(y/t) \")\n",
    "    if repeat.lower() == \"t\":\n",
    "        break\n",
    "\n",
    "with open(directory, \"a\") as file:\n",
    "    for name in ls_name:\n",
    "        file.write(name + \"\\n\")"
   ]
  },
  {
   "cell_type": "markdown",
   "metadata": {},
   "source": [
    "- Untuk membaca data yang ada pada file, kita gunakan \"r\" lalu kita baca setiap data dengan readline(), setiap data yang terbaca akan disimpan di list\n",
    "\n",
    "- Jika nama yang diinputkan sudah ada di list, maka tidak bisa append nama ke list\n",
    "\n",
    "- Untuk menuliskan nama tanpa mengubah isi menggunakan \"a\""
   ]
  },
  {
   "cell_type": "markdown",
   "metadata": {},
   "source": [
    "Kita membuat daftar nama dengan membuat list, lalu kita cek dengan "
   ]
  },
  {
   "cell_type": "markdown",
   "metadata": {},
   "source": [
    "Bonus"
   ]
  },
  {
   "cell_type": "code",
   "execution_count": 7,
   "metadata": {},
   "outputs": [
    {
     "name": "stdout",
     "output_type": "stream",
     "text": [
      "File sudah ada pada direktori tersebut\n"
     ]
    }
   ],
   "source": [
    "import os\n",
    "\n",
    "directory = \"c:\\\\Users\\\\ASUS\\\\OneDrive\\\\Belajar-Ngoding\\\\Belajar-py\"\n",
    "\n",
    "while True:\n",
    "    new_file = input(\"Masukkan nama file: \")\n",
    "\n",
    "    if new_file + \".txt\" in os.listdir(directory):\n",
    "        print(\"File sudah ada pada direktori tersebut\")\n",
    "    else:\n",
    "        with open(directory + \"\\\\\" + new_file + \".txt\", \"w\") as file:\n",
    "            file.write(\"\")  # Membuat file kosong\n",
    "        \n",
    "        print(f\"{new_file}.txt berhasil dibuat\")\n",
    "\n",
    "    ulang = input(\"Ulangi membuat file baru (y/t)? \").lower()\n",
    "    if ulang != 'y':\n",
    "        break"
   ]
  },
  {
   "cell_type": "markdown",
   "metadata": {},
   "source": [
    "- Directory menyimpan alamat folder\n",
    "- Buat nama file, jika nama file + \".txt\" sudah ada di list folder, maka tidak bisa menambahkan file ke folder.\n",
    "- Menambahkan file kosong dengan menulis string kosong"
   ]
  }
 ],
 "metadata": {
  "kernelspec": {
   "display_name": ".venv",
   "language": "python",
   "name": "python3"
  },
  "language_info": {
   "codemirror_mode": {
    "name": "ipython",
    "version": 3
   },
   "file_extension": ".py",
   "mimetype": "text/x-python",
   "name": "python",
   "nbconvert_exporter": "python",
   "pygments_lexer": "ipython3",
   "version": "3.12.5"
  }
 },
 "nbformat": 4,
 "nbformat_minor": 2
}
