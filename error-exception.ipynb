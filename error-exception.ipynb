{
 "cells": [
  {
   "cell_type": "markdown",
   "metadata": {},
   "source": [
    "# Excercise 1"
   ]
  },
  {
   "cell_type": "code",
   "execution_count": null,
   "metadata": {},
   "outputs": [
    {
     "name": "stdout",
     "output_type": "stream",
     "text": [
      "Error : the value is not within the permitted range (-10 .. 10)\n",
      "Error : the value is not within the permitted range (-10 .. 10)\n",
      "Error : wrong input\n",
      "Error : wrong input\n",
      "The number is : 5\n"
     ]
    }
   ],
   "source": [
    "while True:\n",
    "    num = input(\"Enter a number from -10 to 10 : \") # input nilai\n",
    "    if not num.lstrip('-').isdigit(): # hapus strip, lalu cek apakah bukan digit\n",
    "        print(\"Error : wrong input\") \n",
    "    elif int(num) not in range(-10, 11): # ubah jadi int, lalu cek jika tidak berada di rentang -10 sampai 11\n",
    "        print(\"Error : the value is not within the permitted range (-10 .. 10)\")   \n",
    "    else:\n",
    "        print(f\"The number is : {num}\")\n",
    "        break"
   ]
  },
  {
   "cell_type": "markdown",
   "metadata": {},
   "source": [
    "Melacak error menggunakan if merepotkan, menulis banyak kode."
   ]
  },
  {
   "cell_type": "markdown",
   "metadata": {},
   "source": [
    "# Excercise 2"
   ]
  },
  {
   "cell_type": "code",
   "execution_count": null,
   "metadata": {},
   "outputs": [
    {
     "name": "stdout",
     "output_type": "stream",
     "text": [
      "Error : wrong input\n",
      "Error : wrong input\n",
      "Error : the value is not within the permitted range (-10 .. 10)\n",
      "The number is : 6\n"
     ]
    }
   ],
   "source": [
    "while True:\n",
    "    try : \n",
    "        num = int(input(\"Enter a number from -10 to 10 : \")) # langsung inisiasikan tipe data int\n",
    "        if num not in range(-10, 11): # cek apakah tidak berada di rentang yang ditentukan\n",
    "            print(\"Error : the value is not within the permitted range (-10 .. 10)\") \n",
    "        else:\n",
    "            print(f\"The number is : {num}\")\n",
    "            break\n",
    "    except ValueError: # jika tipe data pada inputan salah maka muncul pesan error\n",
    "        print(\"Error : wrong input\")\n",
    "    except Exception as e: # jika ada error selain ValueError, maka kita munculkan errornya apa\n",
    "        print(f\"Unexpected error : {e}\")\n",
    "        "
   ]
  },
  {
   "cell_type": "markdown",
   "metadata": {},
   "source": [
    "Pakai exception karena lebih praktis untuk melihat error."
   ]
  }
 ],
 "metadata": {
  "kernelspec": {
   "display_name": "base",
   "language": "python",
   "name": "python3"
  },
  "language_info": {
   "codemirror_mode": {
    "name": "ipython",
    "version": 3
   },
   "file_extension": ".py",
   "mimetype": "text/x-python",
   "name": "python",
   "nbconvert_exporter": "python",
   "pygments_lexer": "ipython3",
   "version": "3.9.13"
  }
 },
 "nbformat": 4,
 "nbformat_minor": 2
}
