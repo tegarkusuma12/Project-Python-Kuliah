{
 "cells": [
  {
   "cell_type": "markdown",
   "id": "cd0f1f82",
   "metadata": {},
   "source": [
    "### Membuat koneksi ke database\n",
    "Library `SQLite` adalah salah satu library dalam python untuk untuk berinteraksi dengan SQL."
   ]
  },
  {
   "cell_type": "markdown",
   "id": "8b180e43",
   "metadata": {},
   "source": [
    "- Function `connect()` akan membuat koneksi dengan database, apabila database itu belum dibuat maka otomatis dibuat.\n",
    "- Method  `cursor()` digunakan untuk membuat objek cursor yang memungkinkan kita menjalankan perintah SQL dan mengambil hasil query dari database."
   ]
  },
  {
   "cell_type": "code",
   "execution_count": 1,
   "id": "20690e16",
   "metadata": {},
   "outputs": [],
   "source": [
    "import sqlite3\n",
    "\n",
    "# Membuka koneksi ke file database SQLite\n",
    "conn = sqlite3.connect(\"hotel.db\")\n",
    "cur = conn.cursor()"
   ]
  },
  {
   "cell_type": "markdown",
   "id": "b6a1f358",
   "metadata": {},
   "source": [
    "### Buat Tabel `Rooms` dan `Bookings`\n",
    "- `Rooms` berisi data ruangan hotel\n",
    "- `Bookings` berisi data pemesanan ruangan"
   ]
  },
  {
   "cell_type": "markdown",
   "id": "805616c7",
   "metadata": {},
   "source": [
    "Method `executescript()` digunakan untuk lebih dari satu menjalankan perintah SQL dalam sekali jalan."
   ]
  },
  {
   "cell_type": "code",
   "execution_count": 2,
   "id": "f6c0a2ed",
   "metadata": {},
   "outputs": [
    {
     "name": "stdout",
     "output_type": "stream",
     "text": [
      "(0, 'room_id', 'INTEGER', 0, None, 1)\n",
      "(1, 'number', 'TEXT', 1, None, 0)\n",
      "(2, 'type', 'TEXT', 1, None, 0)\n",
      "(3, 'price', 'REAL', 1, None, 0)\n",
      "-----------------------\n",
      "(0, 'booking_id', 'INTEGER', 0, None, 1)\n",
      "(1, 'guest_name', 'TEXT', 1, None, 0)\n",
      "(2, 'room_id', 'INTEGER', 1, None, 0)\n",
      "(3, 'check_in', 'DATE', 1, None, 0)\n",
      "(4, 'check_out', 'DATE', 1, None, 0)\n"
     ]
    }
   ],
   "source": [
    "cur.executescript(\"\"\"\n",
    "CREATE TABLE IF NOT EXISTS Rooms (\n",
    "    room_id INTEGER PRIMARY KEY AUTOINCREMENT,\n",
    "    number TEXT NOT NULL,\n",
    "    type TEXT NOT NULL,\n",
    "    price REAL NOT NULL\n",
    ");\n",
    "\n",
    "CREATE TABLE IF NOT EXISTS Bookings (\n",
    "    booking_id INTEGER PRIMARY KEY AUTOINCREMENT,\n",
    "    guest_name TEXT NOT NULL,\n",
    "    room_id INTEGER NOT NULL,\n",
    "    check_in DATE NOT NULL,\n",
    "    check_out DATE NOT NULL,\n",
    "    FOREIGN KEY (room_id) REFERENCES Rooms(room_id)\n",
    ");\n",
    "\"\"\")\n",
    "conn.commit()\n",
    "\n",
    "# Cek apakah tabel Rooms dan Bookings sudah ada\n",
    "room = cur.execute(\"PRAGMA table_info('Rooms');\")\n",
    "for col in room:\n",
    "    print(col)\n",
    "print(\"-----------------------\")\n",
    "bookings = cur.execute(\"PRAGMA table_info('Bookings');\")\n",
    "for col in bookings:\n",
    "    print(col)"
   ]
  },
  {
   "cell_type": "markdown",
   "id": "270ac9f7",
   "metadata": {},
   "source": [
    "### Tambahkan Data `Rooms`\n",
    "Method `executemany()` digunakan untuk mengeksekusi perintah SQL yang sama berkali-kali dengan data yang berbeda."
   ]
  },
  {
   "cell_type": "code",
   "execution_count": 3,
   "id": "59d94a7e",
   "metadata": {},
   "outputs": [],
   "source": [
    "rooms_data = [\n",
    "    (\"101\", \"Single\", 500000),\n",
    "    (\"102\", \"Double\", 750000),\n",
    "    (\"201\", \"Suite\", 1500000),\n",
    "    (\"202\", \"Single\", 500000),\n",
    "    (\"203\", \"Deluxe\", 1700000),\n",
    "]\n",
    "cur.executemany(\"INSERT INTO Rooms (number, type, price) VALUES (?, ?, ?)\", rooms_data)\n",
    "conn.commit()"
   ]
  },
  {
   "cell_type": "markdown",
   "id": "0d2762f4",
   "metadata": {},
   "source": [
    "### Menambahkan data `Bookings`\n",
    "Menjalankan dengan method `execute()` berarti hanya mengeksekusi satu perintah SQL"
   ]
  },
  {
   "cell_type": "code",
   "execution_count": 4,
   "id": "d8dddcb7",
   "metadata": {},
   "outputs": [],
   "source": [
    "cur.execute(\n",
    "    \"INSERT INTO Bookings (guest_name, room_id, check_in, check_out) VALUES (?, ?, ?, ?)\",\n",
    "    (\"Alice\", 1, \"2025-04-25\", \"2025-04-28\")\n",
    ")\n",
    "conn.commit()"
   ]
  },
  {
   "cell_type": "markdown",
   "id": "6540bb8f",
   "metadata": {},
   "source": [
    "### Mengambil 1 `Bookings`\n",
    "Methode `fetchone()` berarti ia hanya mengambil 1 baris data dari perintah SQL"
   ]
  },
  {
   "cell_type": "code",
   "execution_count": 5,
   "id": "7d4dd6cb",
   "metadata": {},
   "outputs": [
    {
     "data": {
      "text/plain": [
       "(1, 'Alice', 1, '2025-04-25', '2025-04-28')"
      ]
     },
     "execution_count": 5,
     "metadata": {},
     "output_type": "execute_result"
    }
   ],
   "source": [
    "cur.execute(\"SELECT * FROM Bookings WHERE guest_name = 'Alice';\")\n",
    "cur.fetchone()"
   ]
  },
  {
   "cell_type": "markdown",
   "id": "01f56e74",
   "metadata": {},
   "source": [
    "### Mengambil Semua Data `Rooms`\n",
    "Method `fetchall()` berarti ia mengambil semua entries dari perintah SQL"
   ]
  },
  {
   "cell_type": "code",
   "execution_count": 6,
   "id": "6b14cb73",
   "metadata": {},
   "outputs": [
    {
     "name": "stdout",
     "output_type": "stream",
     "text": [
      "Room ID: 1, Number: 101, Type: Single, Price: 500000.0\n",
      "Room ID: 2, Number: 102, Type: Double, Price: 750000.0\n",
      "Room ID: 3, Number: 201, Type: Suite, Price: 1500000.0\n",
      "Room ID: 4, Number: 202, Type: Single, Price: 500000.0\n",
      "Room ID: 5, Number: 203, Type: Deluxe, Price: 1700000.0\n"
     ]
    }
   ],
   "source": [
    "# Cek data yang sudah dimasukkan ke tabel Rooms\n",
    "cur.execute(\"SELECT * FROM Rooms;\")\n",
    "rows = cur.fetchall()\n",
    "for room_id, number, type, price in rows:\n",
    "    print(f\"Room ID: {room_id}, Number: {number}, Type: {type}, Price: {price}\")"
   ]
  },
  {
   "cell_type": "markdown",
   "id": "8f5b2473",
   "metadata": {},
   "source": [
    "### Mengambil Banyak Data \n",
    "Method `fetchmany()` digunakan untuk mengambil beberapa baris data dari perintah SQL sesuai dengan jumlah yang diinginkan."
   ]
  },
  {
   "cell_type": "code",
   "execution_count": 7,
   "id": "796aa9ba",
   "metadata": {},
   "outputs": [
    {
     "data": {
      "text/plain": [
       "[(1, '101', 'Single', 500000.0),\n",
       " (2, '102', 'Double', 750000.0),\n",
       " (3, '201', 'Suite', 1500000.0)]"
      ]
     },
     "execution_count": 7,
     "metadata": {},
     "output_type": "execute_result"
    }
   ],
   "source": [
    "cur.execute(\"SELECT * FROM Rooms;\")\n",
    "cur.fetchmany(3)"
   ]
  },
  {
   "cell_type": "markdown",
   "id": "b63475fe",
   "metadata": {},
   "source": [
    "Kalau parameternya melebihi isi data, maka ya dikembalikan secukupnya."
   ]
  },
  {
   "cell_type": "code",
   "execution_count": 8,
   "id": "f195651c",
   "metadata": {},
   "outputs": [
    {
     "data": {
      "text/plain": [
       "[(1, 'Alice', 1, '2025-04-25', '2025-04-28')]"
      ]
     },
     "execution_count": 8,
     "metadata": {},
     "output_type": "execute_result"
    }
   ],
   "source": [
    "cur.execute(\"SELECT * FROM Bookings;\")\n",
    "cur.fetchmany(2)"
   ]
  },
  {
   "cell_type": "markdown",
   "id": "b98e99b9",
   "metadata": {},
   "source": [
    "### Mengatur Constrain\n",
    "Mengatur contrian harus membuat koneksi ulang dengan database."
   ]
  },
  {
   "cell_type": "code",
   "execution_count": 9,
   "id": "a4564e25",
   "metadata": {},
   "outputs": [
    {
     "data": {
      "text/plain": [
       "[(1, 'Alice', 1, '2025-04-25', '2025-04-28')]"
      ]
     },
     "execution_count": 9,
     "metadata": {},
     "output_type": "execute_result"
    }
   ],
   "source": [
    "conn = sqlite3.connect(\"hotel.db\")\n",
    "conn.execute(\"PRAGMA foreign_keys = ON;\")\n",
    "cur = conn.cursor()\n",
    "\n",
    "cur.execute(\"SELECT * FROM Bookings;\")\n",
    "cur.fetchall()"
   ]
  },
  {
   "cell_type": "markdown",
   "id": "5f8bd3c6",
   "metadata": {},
   "source": [
    "Apabila kita menambahkan data yang tidak sesuai dengan primary key, maka akan error"
   ]
  },
  {
   "cell_type": "code",
   "execution_count": 10,
   "id": "90894fe5",
   "metadata": {},
   "outputs": [
    {
     "name": "stdout",
     "output_type": "stream",
     "text": [
      "Gagal memasukkan data karena foreign key: FOREIGN KEY constraint failed\n"
     ]
    }
   ],
   "source": [
    "try:\n",
    "    cur.execute(\n",
    "        \"INSERT INTO Bookings (guest_name, room_id, check_in, check_out) VALUES (?, ?, ?, ?)\",\n",
    "        (\"Eve\", 999, \"2025-05-01\", \"2025-05-03\")\n",
    "    )\n",
    "    print(\"Data berhasil dimasukkan ke tabel Bookings\")\n",
    "except sqlite3.IntegrityError as e:\n",
    "    print(\"Gagal memasukkan data karena foreign key:\", e)\n"
   ]
  },
  {
   "cell_type": "code",
   "execution_count": 11,
   "id": "0f37ab23",
   "metadata": {},
   "outputs": [
    {
     "name": "stdout",
     "output_type": "stream",
     "text": [
      "Data berhasil dimasukkan ke tabel Bookings\n"
     ]
    }
   ],
   "source": [
    "try:\n",
    "    cur.executemany(\n",
    "        \"INSERT INTO Bookings (guest_name, room_id, check_in, check_out) VALUES (?, ?, ?, ?)\",\n",
    "        [\n",
    "            (\"Eve\", 3, \"2025-05-01\", \"2025-05-03\"),\n",
    "            (\"Bob\", 1, \"2025-06-01\", \"2025-06-03\"),\n",
    "            (\"Charlie\", 2, \"2025-07-03\", \"2025-07-04\"),\n",
    "            (\"Dave\", 3, \"2025-05-02\", \"2025-05-03\")\n",
    "        ]\n",
    "    )\n",
    "    conn.commit()\n",
    "    print(\"Data berhasil dimasukkan ke tabel Bookings\")\n",
    "except sqlite3.IntegrityError as e:\n",
    "    print(\"Gagal memasukkan data karena foreign key:\", e)"
   ]
  },
  {
   "cell_type": "markdown",
   "id": "d493c213",
   "metadata": {},
   "source": [
    "### Coba hapus data\n",
    "Kita akan menghapus data di tabel `Bookings`. Membuat variable `name` diisi dengan nama pelanggan yang ingin dihapus"
   ]
  },
  {
   "cell_type": "code",
   "execution_count": 15,
   "id": "d1ebbbb9",
   "metadata": {},
   "outputs": [
    {
     "data": {
      "text/plain": [
       "<sqlite3.Cursor at 0x27c5637a5c0>"
      ]
     },
     "execution_count": 15,
     "metadata": {},
     "output_type": "execute_result"
    }
   ],
   "source": [
    "name = \"Eve\"\n",
    "cur.execute(\"DELETE FROM Bookings WHERE guest_name = ?;\", (name,))"
   ]
  },
  {
   "cell_type": "code",
   "execution_count": 16,
   "id": "6eea8451",
   "metadata": {},
   "outputs": [
    {
     "name": "stdout",
     "output_type": "stream",
     "text": [
      "Tidak ada data dengan nama 'Eve' ditemukan — kemungkinan sudah dihapus.\n"
     ]
    }
   ],
   "source": [
    "# Cek apakah data dengan guest_name tersebut masih ada\n",
    "cur.execute(\"SELECT * FROM Bookings WHERE guest_name = ?;\", (name,))\n",
    "result = cur.fetchone()\n",
    "\n",
    "if result is None:\n",
    "    print(f\"Tidak ada data dengan nama '{name}' ditemukan — kemungkinan sudah dihapus.\")\n",
    "else:\n",
    "    print(f\"Ada data dengan nama '{name}' — belum dihapus.\")"
   ]
  },
  {
   "cell_type": "markdown",
   "id": "144d69a2",
   "metadata": {},
   "source": [
    "### Menutup koneksi\n",
    "Setelah menyelesaikan tugas, jangan lupa menutup koneksi database dengan metode `close()` untuk mencegah kebocoran memori, penguncian file, serta memastikan semua perubahan tersimpan dengan aman."
   ]
  },
  {
   "cell_type": "code",
   "execution_count": 17,
   "id": "433a9ac3",
   "metadata": {},
   "outputs": [],
   "source": [
    "conn.close()"
   ]
  }
 ],
 "metadata": {
  "kernelspec": {
   "display_name": ".venv",
   "language": "python",
   "name": "python3"
  },
  "language_info": {
   "codemirror_mode": {
    "name": "ipython",
    "version": 3
   },
   "file_extension": ".py",
   "mimetype": "text/x-python",
   "name": "python",
   "nbconvert_exporter": "python",
   "pygments_lexer": "ipython3",
   "version": "3.12.5"
  }
 },
 "nbformat": 4,
 "nbformat_minor": 5
}
