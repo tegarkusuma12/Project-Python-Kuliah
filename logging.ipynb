{
 "cells": [
  {
   "cell_type": "markdown",
   "id": "bb3d99c2",
   "metadata": {},
   "source": [
    "### Import Library\n",
    "re untuk menangani regular expression, mambaca pola string."
   ]
  },
  {
   "cell_type": "code",
   "execution_count": 1,
   "id": "f4aa2cb5",
   "metadata": {},
   "outputs": [],
   "source": [
    "import re"
   ]
  },
  {
   "cell_type": "markdown",
   "id": "8899b5b7",
   "metadata": {},
   "source": [
    "### Mencari file\n",
    "apabila file tidak berakhiran .log, maka program mengulang. apabila file tidak ditemukan, akan memunculkan pesan \"File 'namafile' tidak ditemukan\"."
   ]
  },
  {
   "cell_type": "code",
   "execution_count": 2,
   "id": "37923d8a",
   "metadata": {},
   "outputs": [
    {
     "name": "stdout",
     "output_type": "stream",
     "text": [
      "File 'aktivitas.log' berhasil dibaca.\n"
     ]
    }
   ],
   "source": [
    "while True:\n",
    "    try:\n",
    "        file = str(input(\"Masukkan nama file yang ingin dibaca: \"))\n",
    "\n",
    "        match = re.search(r\"\\.log$\", file)\n",
    "\n",
    "        if not match:\n",
    "            print(f\"File {file} bukan merupakan file log\")\n",
    "            continue\n",
    "        else:\n",
    "            directory = r\"C:\\Users\\ASUS\\OneDrive\\Belajar-Ngoding\\Belajar-py\"\n",
    "            open(directory + \"\\\\\"+ file, \"r\").close()\n",
    "            print(f\"File '{file}' berhasil dibaca.\")\n",
    "            break\n",
    "    except ValueError:\n",
    "         print(\"ValueError\")\n",
    "    except FileNotFoundError:\n",
    "        print(f\"File '{file}' tidak  ditemukan\")"
   ]
  },
  {
   "cell_type": "markdown",
   "id": "986d45b7",
   "metadata": {},
   "source": [
    "### Mencari aktivitas\n",
    "Membaca file dengan fungsi \"r\". read() untuk membaca keseluruhan isi file.\n",
    "Aktivitas memiliki pola setelah username, menggunakan findall untuk membuat daftar."
   ]
  },
  {
   "cell_type": "code",
   "execution_count": 3,
   "id": "4459afbc",
   "metadata": {},
   "outputs": [
    {
     "name": "stdout",
     "output_type": "stream",
     "text": [
      "\n",
      "Daftar aktivitas yang ditemukan\n",
      "1. melihat produk\n",
      "2. checkout\n",
      "3. menambahkan ke keranjang\n",
      "4. login\n",
      "5. logout\n",
      "6. memberi ulasan\n",
      "7. membatalkan pesanan\n",
      "8. mengganti alamat\n",
      "9. menghubungi penjual\n",
      "10. mengubah metode pembayaran\n",
      "11. login\n",
      "12. checkout\n",
      "13. melihat produk\n",
      "14. menambahkan ke keranjang\n",
      "15. mengganti alamat\n",
      "16. logout\n",
      "17. login\n",
      "18. memberi ulasan\n",
      "19. checkout\n",
      "20. menghubungi penjual\n"
     ]
    }
   ],
   "source": [
    "print(\"\\nDaftar aktivitas yang ditemukan\")\n",
    "with open(file, \"r\") as file:\n",
    "    data = file.read()\n",
    "\n",
    "pattern = r'@\\w+\\s([a-z ]+)'\n",
    "hasil = re.findall(pattern, data)\n",
    "for n, i in enumerate(hasil):\n",
    "    print(f\"{n+1}. {i}\")\n"
   ]
  },
  {
   "cell_type": "markdown",
   "id": "051d8b7e",
   "metadata": {},
   "source": [
    "### Menyimpan hasil aktivitas dan menghitung\n",
    "Fungsi \"w\" digunakan untuk menuliskan ke file log.txt apabila belum ada otomatis dibuat, jika sudah ada overwrite isi log.txt. Fungsi write untuk menulis string ke file.\n",
    "Hasil list dari findall tadi, agar tidk duplikat kita ubah menjadi set, untuk menghitung aktivitas kita menggunakan methode count pada setiap anggota dalam list, yang dicari adalah string dari anggota set."
   ]
  },
  {
   "cell_type": "code",
   "execution_count": 4,
   "id": "dc9c3cd5",
   "metadata": {},
   "outputs": [
    {
     "name": "stdout",
     "output_type": "stream",
     "text": [
      "\n",
      "Simpan hasil ke dalam file\n",
      "File log.txt berhasil dibuat\n"
     ]
    }
   ],
   "source": [
    "print(\"\\nSimpan hasil ke dalam file\")\n",
    "hasil_set = set(hasil)\n",
    "with open(\"log.txt\", \"w\") as file:\n",
    "    for n, i in enumerate(hasil_set):\n",
    "        tulis = f\"{n+1}. {i} : {hasil.count(i)}\\n\"\n",
    "        file.write(tulis)\n",
    "print(\"File log.txt berhasil dibuat\")"
   ]
  },
  {
   "cell_type": "markdown",
   "id": "7e255874",
   "metadata": {},
   "source": [
    "### Mengecek isi file log.txt"
   ]
  },
  {
   "cell_type": "code",
   "execution_count": 5,
   "id": "b4f97f0c",
   "metadata": {},
   "outputs": [
    {
     "name": "stdout",
     "output_type": "stream",
     "text": [
      "1. mengubah metode pembayaran : 1\n",
      "2. menghubungi penjual : 2\n",
      "3. checkout : 3\n",
      "4. memberi ulasan : 2\n",
      "5. logout : 2\n",
      "6. login : 3\n",
      "7. mengganti alamat : 2\n",
      "8. membatalkan pesanan : 1\n",
      "9. melihat produk : 2\n",
      "10. menambahkan ke keranjang : 2\n",
      "\n"
     ]
    }
   ],
   "source": [
    "with open(\"log.txt\", \"r\") as file:\n",
    "    data = file.read()\n",
    "    print(data)"
   ]
  }
 ],
 "metadata": {
  "kernelspec": {
   "display_name": ".venv",
   "language": "python",
   "name": "python3"
  },
  "language_info": {
   "codemirror_mode": {
    "name": "ipython",
    "version": 3
   },
   "file_extension": ".py",
   "mimetype": "text/x-python",
   "name": "python",
   "nbconvert_exporter": "python",
   "pygments_lexer": "ipython3",
   "version": "3.12.5"
  }
 },
 "nbformat": 4,
 "nbformat_minor": 5
}
